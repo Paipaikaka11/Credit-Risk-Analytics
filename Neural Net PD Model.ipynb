{
  "cells": [
    {
      "cell_type": "code",
      "execution_count": null,
      "metadata": {
        "id": "StI3KRiu1bQT"
      },
      "outputs": [],
      "source": [
        "import pandas as pd\n",
        "import pickle\n",
        "import datetime as dt\n",
        "import numpy as np\n",
        "import matplotlib.pyplot as plt\n",
        "from dateutil.relativedelta import relativedelta\n",
        "from sklearn.metrics import roc_auc_score\n",
        "import statsmodels.api as sm\n",
        "from sklearn.model_selection import train_test_split\n",
        "from sklearn.metrics import roc_auc_score\n",
        "import torch\n",
        "from torch import nn\n",
        "from torch.utils.data import TensorDataset, DataLoader\n",
        "from tqdm import trange, tqdm\n",
        "from sklearn.preprocessing import StandardScaler\n",
        "import torch.optim as optim\n",
        "import matplotlib.pyplot as plt"
      ]
    },
    {
      "cell_type": "code",
      "execution_count": null,
      "metadata": {
        "colab": {
          "base_uri": "https://localhost:8080/"
        },
        "id": "VOWZK7IY2LDc",
        "outputId": "3373e243-e813-4391-811d-620591ac3f60"
      },
      "outputs": [
        {
          "output_type": "stream",
          "name": "stdout",
          "text": [
            "Mounted at /content/drive\n"
          ]
        }
      ],
      "source": [
        "from google.colab import drive\n",
        "drive.mount('/content/drive')"
      ]
    },
    {
      "cell_type": "code",
      "execution_count": null,
      "metadata": {
        "id": "XBZjrctP2LhU"
      },
      "outputs": [],
      "source": [
        "relative_path=\"/content/drive/MyDrive/Credit Risk Analytics/Project3\""
      ]
    },
    {
      "cell_type": "markdown",
      "metadata": {
        "id": "OIySwZ7O2Oqb"
      },
      "source": [
        "# Step 1 - Cleaning the Financial Data"
      ]
    },
    {
      "cell_type": "markdown",
      "source": [
        "## Step 1.1 Pulling financials"
      ],
      "metadata": {
        "id": "1mfc4y-TGy-S"
      }
    },
    {
      "cell_type": "code",
      "execution_count": null,
      "metadata": {
        "id": "PyicOaz42xq2"
      },
      "outputs": [],
      "source": [
        "financials=pd.read_pickle(relative_path + \"/\"+\"compustat financials.pickle\")"
      ]
    },
    {
      "cell_type": "code",
      "execution_count": null,
      "metadata": {
        "colab": {
          "base_uri": "https://localhost:8080/",
          "height": 360
        },
        "id": "ZWDYr1_922uE",
        "outputId": "8a088cf8-ecc4-4896-d448-a37bea38e5b2"
      },
      "outputs": [
        {
          "output_type": "stream",
          "name": "stdout",
          "text": [
            "There are 319,589 rows in data\n"
          ]
        },
        {
          "output_type": "execute_result",
          "data": {
            "text/plain": [
              "    gvkey    datadate  fyear  fyr  total_assets        lt      ceq      act  \\\n",
              "0  001004  1991-05-31   1990    5       379.958   186.180  193.778  268.399   \n",
              "1  001009  1990-10-31   1990   10        32.335    26.073    6.262   10.047   \n",
              "2  001010  1990-12-31   1990   12      1728.888  1516.287  210.399  523.502   \n",
              "3  001011  1990-12-31   1990   12         7.784     7.117    0.667    1.247   \n",
              "4  001013  1990-10-31   1990   10       181.665    47.652  134.013  102.525   \n",
              "\n",
              "       lct     invt  ...     prcc_f    freq  pstk      dp     capx  intan  \\\n",
              "0   79.227  156.133  ...  14.124999  Annual   0.0   8.256    8.884  7.115   \n",
              "1    8.382    2.355  ...   5.999998  Annual   0.0   1.971    5.493  0.000   \n",
              "2  421.777   36.860  ...        NaN  Annual   0.0  56.747  140.385    NaN   \n",
              "3    1.246    0.663  ...   1.188000  Annual   0.0   0.700    1.273  1.009   \n",
              "4   37.335   33.845  ...  16.375000  Annual   0.0  11.980   13.734    NaN   \n",
              "\n",
              "    gdwl     txt     dv  urect  \n",
              "0  7.115   6.550  7.651    NaN  \n",
              "1  0.000   0.769  0.808    NaN  \n",
              "2  0.000 -28.220  0.000    NaN  \n",
              "3    NaN   0.000  0.000    NaN  \n",
              "4    NaN  15.269  0.000    NaN  \n",
              "\n",
              "[5 rows x 39 columns]"
            ],
            "text/html": [
              "\n",
              "  <div id=\"df-4093b82a-a8cd-4799-aad1-651123c5dd06\" class=\"colab-df-container\">\n",
              "    <div>\n",
              "<style scoped>\n",
              "    .dataframe tbody tr th:only-of-type {\n",
              "        vertical-align: middle;\n",
              "    }\n",
              "\n",
              "    .dataframe tbody tr th {\n",
              "        vertical-align: top;\n",
              "    }\n",
              "\n",
              "    .dataframe thead th {\n",
              "        text-align: right;\n",
              "    }\n",
              "</style>\n",
              "<table border=\"1\" class=\"dataframe\">\n",
              "  <thead>\n",
              "    <tr style=\"text-align: right;\">\n",
              "      <th></th>\n",
              "      <th>gvkey</th>\n",
              "      <th>datadate</th>\n",
              "      <th>fyear</th>\n",
              "      <th>fyr</th>\n",
              "      <th>total_assets</th>\n",
              "      <th>lt</th>\n",
              "      <th>ceq</th>\n",
              "      <th>act</th>\n",
              "      <th>lct</th>\n",
              "      <th>invt</th>\n",
              "      <th>...</th>\n",
              "      <th>prcc_f</th>\n",
              "      <th>freq</th>\n",
              "      <th>pstk</th>\n",
              "      <th>dp</th>\n",
              "      <th>capx</th>\n",
              "      <th>intan</th>\n",
              "      <th>gdwl</th>\n",
              "      <th>txt</th>\n",
              "      <th>dv</th>\n",
              "      <th>urect</th>\n",
              "    </tr>\n",
              "  </thead>\n",
              "  <tbody>\n",
              "    <tr>\n",
              "      <th>0</th>\n",
              "      <td>001004</td>\n",
              "      <td>1991-05-31</td>\n",
              "      <td>1990</td>\n",
              "      <td>5</td>\n",
              "      <td>379.958</td>\n",
              "      <td>186.180</td>\n",
              "      <td>193.778</td>\n",
              "      <td>268.399</td>\n",
              "      <td>79.227</td>\n",
              "      <td>156.133</td>\n",
              "      <td>...</td>\n",
              "      <td>14.124999</td>\n",
              "      <td>Annual</td>\n",
              "      <td>0.0</td>\n",
              "      <td>8.256</td>\n",
              "      <td>8.884</td>\n",
              "      <td>7.115</td>\n",
              "      <td>7.115</td>\n",
              "      <td>6.550</td>\n",
              "      <td>7.651</td>\n",
              "      <td>NaN</td>\n",
              "    </tr>\n",
              "    <tr>\n",
              "      <th>1</th>\n",
              "      <td>001009</td>\n",
              "      <td>1990-10-31</td>\n",
              "      <td>1990</td>\n",
              "      <td>10</td>\n",
              "      <td>32.335</td>\n",
              "      <td>26.073</td>\n",
              "      <td>6.262</td>\n",
              "      <td>10.047</td>\n",
              "      <td>8.382</td>\n",
              "      <td>2.355</td>\n",
              "      <td>...</td>\n",
              "      <td>5.999998</td>\n",
              "      <td>Annual</td>\n",
              "      <td>0.0</td>\n",
              "      <td>1.971</td>\n",
              "      <td>5.493</td>\n",
              "      <td>0.000</td>\n",
              "      <td>0.000</td>\n",
              "      <td>0.769</td>\n",
              "      <td>0.808</td>\n",
              "      <td>NaN</td>\n",
              "    </tr>\n",
              "    <tr>\n",
              "      <th>2</th>\n",
              "      <td>001010</td>\n",
              "      <td>1990-12-31</td>\n",
              "      <td>1990</td>\n",
              "      <td>12</td>\n",
              "      <td>1728.888</td>\n",
              "      <td>1516.287</td>\n",
              "      <td>210.399</td>\n",
              "      <td>523.502</td>\n",
              "      <td>421.777</td>\n",
              "      <td>36.860</td>\n",
              "      <td>...</td>\n",
              "      <td>NaN</td>\n",
              "      <td>Annual</td>\n",
              "      <td>0.0</td>\n",
              "      <td>56.747</td>\n",
              "      <td>140.385</td>\n",
              "      <td>NaN</td>\n",
              "      <td>0.000</td>\n",
              "      <td>-28.220</td>\n",
              "      <td>0.000</td>\n",
              "      <td>NaN</td>\n",
              "    </tr>\n",
              "    <tr>\n",
              "      <th>3</th>\n",
              "      <td>001011</td>\n",
              "      <td>1990-12-31</td>\n",
              "      <td>1990</td>\n",
              "      <td>12</td>\n",
              "      <td>7.784</td>\n",
              "      <td>7.117</td>\n",
              "      <td>0.667</td>\n",
              "      <td>1.247</td>\n",
              "      <td>1.246</td>\n",
              "      <td>0.663</td>\n",
              "      <td>...</td>\n",
              "      <td>1.188000</td>\n",
              "      <td>Annual</td>\n",
              "      <td>0.0</td>\n",
              "      <td>0.700</td>\n",
              "      <td>1.273</td>\n",
              "      <td>1.009</td>\n",
              "      <td>NaN</td>\n",
              "      <td>0.000</td>\n",
              "      <td>0.000</td>\n",
              "      <td>NaN</td>\n",
              "    </tr>\n",
              "    <tr>\n",
              "      <th>4</th>\n",
              "      <td>001013</td>\n",
              "      <td>1990-10-31</td>\n",
              "      <td>1990</td>\n",
              "      <td>10</td>\n",
              "      <td>181.665</td>\n",
              "      <td>47.652</td>\n",
              "      <td>134.013</td>\n",
              "      <td>102.525</td>\n",
              "      <td>37.335</td>\n",
              "      <td>33.845</td>\n",
              "      <td>...</td>\n",
              "      <td>16.375000</td>\n",
              "      <td>Annual</td>\n",
              "      <td>0.0</td>\n",
              "      <td>11.980</td>\n",
              "      <td>13.734</td>\n",
              "      <td>NaN</td>\n",
              "      <td>NaN</td>\n",
              "      <td>15.269</td>\n",
              "      <td>0.000</td>\n",
              "      <td>NaN</td>\n",
              "    </tr>\n",
              "  </tbody>\n",
              "</table>\n",
              "<p>5 rows × 39 columns</p>\n",
              "</div>\n",
              "    <div class=\"colab-df-buttons\">\n",
              "\n",
              "  <div class=\"colab-df-container\">\n",
              "    <button class=\"colab-df-convert\" onclick=\"convertToInteractive('df-4093b82a-a8cd-4799-aad1-651123c5dd06')\"\n",
              "            title=\"Convert this dataframe to an interactive table.\"\n",
              "            style=\"display:none;\">\n",
              "\n",
              "  <svg xmlns=\"http://www.w3.org/2000/svg\" height=\"24px\" viewBox=\"0 -960 960 960\">\n",
              "    <path d=\"M120-120v-720h720v720H120Zm60-500h600v-160H180v160Zm220 220h160v-160H400v160Zm0 220h160v-160H400v160ZM180-400h160v-160H180v160Zm440 0h160v-160H620v160ZM180-180h160v-160H180v160Zm440 0h160v-160H620v160Z\"/>\n",
              "  </svg>\n",
              "    </button>\n",
              "\n",
              "  <style>\n",
              "    .colab-df-container {\n",
              "      display:flex;\n",
              "      gap: 12px;\n",
              "    }\n",
              "\n",
              "    .colab-df-convert {\n",
              "      background-color: #E8F0FE;\n",
              "      border: none;\n",
              "      border-radius: 50%;\n",
              "      cursor: pointer;\n",
              "      display: none;\n",
              "      fill: #1967D2;\n",
              "      height: 32px;\n",
              "      padding: 0 0 0 0;\n",
              "      width: 32px;\n",
              "    }\n",
              "\n",
              "    .colab-df-convert:hover {\n",
              "      background-color: #E2EBFA;\n",
              "      box-shadow: 0px 1px 2px rgba(60, 64, 67, 0.3), 0px 1px 3px 1px rgba(60, 64, 67, 0.15);\n",
              "      fill: #174EA6;\n",
              "    }\n",
              "\n",
              "    .colab-df-buttons div {\n",
              "      margin-bottom: 4px;\n",
              "    }\n",
              "\n",
              "    [theme=dark] .colab-df-convert {\n",
              "      background-color: #3B4455;\n",
              "      fill: #D2E3FC;\n",
              "    }\n",
              "\n",
              "    [theme=dark] .colab-df-convert:hover {\n",
              "      background-color: #434B5C;\n",
              "      box-shadow: 0px 1px 3px 1px rgba(0, 0, 0, 0.15);\n",
              "      filter: drop-shadow(0px 1px 2px rgba(0, 0, 0, 0.3));\n",
              "      fill: #FFFFFF;\n",
              "    }\n",
              "  </style>\n",
              "\n",
              "    <script>\n",
              "      const buttonEl =\n",
              "        document.querySelector('#df-4093b82a-a8cd-4799-aad1-651123c5dd06 button.colab-df-convert');\n",
              "      buttonEl.style.display =\n",
              "        google.colab.kernel.accessAllowed ? 'block' : 'none';\n",
              "\n",
              "      async function convertToInteractive(key) {\n",
              "        const element = document.querySelector('#df-4093b82a-a8cd-4799-aad1-651123c5dd06');\n",
              "        const dataTable =\n",
              "          await google.colab.kernel.invokeFunction('convertToInteractive',\n",
              "                                                    [key], {});\n",
              "        if (!dataTable) return;\n",
              "\n",
              "        const docLinkHtml = 'Like what you see? Visit the ' +\n",
              "          '<a target=\"_blank\" href=https://colab.research.google.com/notebooks/data_table.ipynb>data table notebook</a>'\n",
              "          + ' to learn more about interactive tables.';\n",
              "        element.innerHTML = '';\n",
              "        dataTable['output_type'] = 'display_data';\n",
              "        await google.colab.output.renderOutput(dataTable, element);\n",
              "        const docLink = document.createElement('div');\n",
              "        docLink.innerHTML = docLinkHtml;\n",
              "        element.appendChild(docLink);\n",
              "      }\n",
              "    </script>\n",
              "  </div>\n",
              "\n",
              "\n",
              "    <div id=\"df-15bb95ec-4167-44a5-ae50-872b44520eed\">\n",
              "      <button class=\"colab-df-quickchart\" onclick=\"quickchart('df-15bb95ec-4167-44a5-ae50-872b44520eed')\"\n",
              "                title=\"Suggest charts\"\n",
              "                style=\"display:none;\">\n",
              "\n",
              "<svg xmlns=\"http://www.w3.org/2000/svg\" height=\"24px\"viewBox=\"0 0 24 24\"\n",
              "     width=\"24px\">\n",
              "    <g>\n",
              "        <path d=\"M19 3H5c-1.1 0-2 .9-2 2v14c0 1.1.9 2 2 2h14c1.1 0 2-.9 2-2V5c0-1.1-.9-2-2-2zM9 17H7v-7h2v7zm4 0h-2V7h2v10zm4 0h-2v-4h2v4z\"/>\n",
              "    </g>\n",
              "</svg>\n",
              "      </button>\n",
              "\n",
              "<style>\n",
              "  .colab-df-quickchart {\n",
              "      --bg-color: #E8F0FE;\n",
              "      --fill-color: #1967D2;\n",
              "      --hover-bg-color: #E2EBFA;\n",
              "      --hover-fill-color: #174EA6;\n",
              "      --disabled-fill-color: #AAA;\n",
              "      --disabled-bg-color: #DDD;\n",
              "  }\n",
              "\n",
              "  [theme=dark] .colab-df-quickchart {\n",
              "      --bg-color: #3B4455;\n",
              "      --fill-color: #D2E3FC;\n",
              "      --hover-bg-color: #434B5C;\n",
              "      --hover-fill-color: #FFFFFF;\n",
              "      --disabled-bg-color: #3B4455;\n",
              "      --disabled-fill-color: #666;\n",
              "  }\n",
              "\n",
              "  .colab-df-quickchart {\n",
              "    background-color: var(--bg-color);\n",
              "    border: none;\n",
              "    border-radius: 50%;\n",
              "    cursor: pointer;\n",
              "    display: none;\n",
              "    fill: var(--fill-color);\n",
              "    height: 32px;\n",
              "    padding: 0;\n",
              "    width: 32px;\n",
              "  }\n",
              "\n",
              "  .colab-df-quickchart:hover {\n",
              "    background-color: var(--hover-bg-color);\n",
              "    box-shadow: 0 1px 2px rgba(60, 64, 67, 0.3), 0 1px 3px 1px rgba(60, 64, 67, 0.15);\n",
              "    fill: var(--button-hover-fill-color);\n",
              "  }\n",
              "\n",
              "  .colab-df-quickchart-complete:disabled,\n",
              "  .colab-df-quickchart-complete:disabled:hover {\n",
              "    background-color: var(--disabled-bg-color);\n",
              "    fill: var(--disabled-fill-color);\n",
              "    box-shadow: none;\n",
              "  }\n",
              "\n",
              "  .colab-df-spinner {\n",
              "    border: 2px solid var(--fill-color);\n",
              "    border-color: transparent;\n",
              "    border-bottom-color: var(--fill-color);\n",
              "    animation:\n",
              "      spin 1s steps(1) infinite;\n",
              "  }\n",
              "\n",
              "  @keyframes spin {\n",
              "    0% {\n",
              "      border-color: transparent;\n",
              "      border-bottom-color: var(--fill-color);\n",
              "      border-left-color: var(--fill-color);\n",
              "    }\n",
              "    20% {\n",
              "      border-color: transparent;\n",
              "      border-left-color: var(--fill-color);\n",
              "      border-top-color: var(--fill-color);\n",
              "    }\n",
              "    30% {\n",
              "      border-color: transparent;\n",
              "      border-left-color: var(--fill-color);\n",
              "      border-top-color: var(--fill-color);\n",
              "      border-right-color: var(--fill-color);\n",
              "    }\n",
              "    40% {\n",
              "      border-color: transparent;\n",
              "      border-right-color: var(--fill-color);\n",
              "      border-top-color: var(--fill-color);\n",
              "    }\n",
              "    60% {\n",
              "      border-color: transparent;\n",
              "      border-right-color: var(--fill-color);\n",
              "    }\n",
              "    80% {\n",
              "      border-color: transparent;\n",
              "      border-right-color: var(--fill-color);\n",
              "      border-bottom-color: var(--fill-color);\n",
              "    }\n",
              "    90% {\n",
              "      border-color: transparent;\n",
              "      border-bottom-color: var(--fill-color);\n",
              "    }\n",
              "  }\n",
              "</style>\n",
              "\n",
              "      <script>\n",
              "        async function quickchart(key) {\n",
              "          const quickchartButtonEl =\n",
              "            document.querySelector('#' + key + ' button');\n",
              "          quickchartButtonEl.disabled = true;  // To prevent multiple clicks.\n",
              "          quickchartButtonEl.classList.add('colab-df-spinner');\n",
              "          try {\n",
              "            const charts = await google.colab.kernel.invokeFunction(\n",
              "                'suggestCharts', [key], {});\n",
              "          } catch (error) {\n",
              "            console.error('Error during call to suggestCharts:', error);\n",
              "          }\n",
              "          quickchartButtonEl.classList.remove('colab-df-spinner');\n",
              "          quickchartButtonEl.classList.add('colab-df-quickchart-complete');\n",
              "        }\n",
              "        (() => {\n",
              "          let quickchartButtonEl =\n",
              "            document.querySelector('#df-15bb95ec-4167-44a5-ae50-872b44520eed button');\n",
              "          quickchartButtonEl.style.display =\n",
              "            google.colab.kernel.accessAllowed ? 'block' : 'none';\n",
              "        })();\n",
              "      </script>\n",
              "    </div>\n",
              "\n",
              "    </div>\n",
              "  </div>\n"
            ],
            "application/vnd.google.colaboratory.intrinsic+json": {
              "type": "dataframe",
              "variable_name": "financials"
            }
          },
          "metadata": {},
          "execution_count": 197
        }
      ],
      "source": [
        "financials = financials.rename({'at':'total_assets'}, axis = 1)\n",
        "financials = financials[~pd.isnull(financials.total_assets)]\n",
        "financials = financials[financials.total_assets > 0]\n",
        "print(f'There are {len(financials):,} rows in data')\n",
        "financials.head()"
      ]
    },
    {
      "cell_type": "markdown",
      "source": [
        "## Step 1.2 Creating the ratios"
      ],
      "metadata": {
        "id": "Wq3RxnQFG32a"
      }
    },
    {
      "cell_type": "markdown",
      "source": [
        "The following ratios are the combination of the ratios that our group used in project 2 and also the ratios that given in the homework 2 solution. When I first tried using only the Project 2 ratios, very few met my AUC‐based selection criteria, making it hard to choose factors. Rather than loosen my selection rule, I broadened the pool of input ratios and then applied a stricter AUC threshold."
      ],
      "metadata": {
        "id": "g_CII0dxCHW3"
      }
    },
    {
      "cell_type": "code",
      "source": [
        "### Ratios From HW2 Solutions\n",
        "financials = financials.sort_values(by=['gvkey', 'datadate']).copy()\n",
        "financials = financials.reset_index(drop=True)\n",
        "\n",
        "list_factor_givenhw = [\n",
        "    'total_debt', 'debt_to_equity', 'debt_to_capital', 'liabilities_to_assets',\n",
        "    'debt_to_assets', 'interest_coverage', 'free_cash_flow', 'dscr_fcf',\n",
        "    'roa', 'roe', 'operating_margin', 'operating_margin_alt',\n",
        "    'net_profit_margin', 'tangible_assets', 'tangible_book_value_to_debt',\n",
        "    'current_ratio', 'quick_ratio', 'quick_ratio_alt', 'cash_ratio',\n",
        "    'intan_to_assets', 'goodwill_to_assets', 'ocf_to_debt', 'fcf_to_debt',\n",
        "    'avg_at', 'accruals', 'accruals_alt', 'inventory_turnover',\n",
        "    'receivables_turnover', 'asset_turnover', 'book_value_per_share',\n",
        "    'price_to_book', 'eps', 'price_to_earnings', 'dividend_yield',\n",
        "    'dividend_payout', 'sg&a_intensity', 'rd_intensity', 'capex_ratio',\n",
        "    'sales_growth', 'earnings_growth', 'ocf_growth', 'asset_growth',\n",
        "    'dividend_growth', 'equity_to_assets', 'xsga_to_sales', 'act_norm',\n",
        "    'lct_norm', 'invt_norm', 'rect_norm', 'ap_norm', 'xint_margin',\n",
        "    'xrd_intensity', 'xsga_intensity', 'ebit_margin', 'cogs_margin',\n",
        "    'ni_margin', 'txt_rate', 'oancf_norm', 'fincf_norm', 'capx_norm'\n",
        "]\n",
        "\n",
        "# --- Leverage Ratios ---\n",
        "financials['total_debt'] = financials['dlc'] + financials['dltt']\n",
        "financials['debt_to_equity'] = financials['total_debt'] / financials['ceq']\n",
        "financials['debt_to_capital'] = financials['total_debt'] / (financials['total_debt'] + financials['ceq'] + financials.get('pstk', 0)\n",
        ")\n",
        "financials['liabilities_to_assets'] = financials['lt'] / financials['total_assets']\n",
        "financials['debt_to_assets'] = financials['total_debt'] / financials['total_assets']\n",
        "\n",
        "# --- Coverage Ratio ---\n",
        "financials['interest_coverage'] = financials['ebit'] / financials['xint']\n",
        "financials['free_cash_flow'] = financials['oancf'] - financials['capx']\n",
        "financials['dscr_fcf'] = financials['free_cash_flow'] / financials['xint']\n",
        "\n",
        "# --- Profitability Ratios ---\n",
        "financials['roa'] = financials['ni'] / financials['total_assets']\n",
        "financials['roe'] = financials['ni'] / financials['ceq']\n",
        "financials['operating_margin'] = financials['oibdp'] / financials['sale']\n",
        "financials['operating_margin_alt'] = financials['ebit'] / financials['sale']\n",
        "financials['net_profit_margin'] = financials['ni'] / financials['sale']\n",
        "\n",
        "# --- Asset Coverage & Quality Ratios ---\n",
        "financials['tangible_assets'] = (\n",
        "    financials['total_assets'] - financials['intan'] - financials['gdwl']\n",
        ")\n",
        "financials['tangible_book_value_to_debt'] = (\n",
        "    financials['tangible_assets'] / financials['total_debt']\n",
        ")\n",
        "\n",
        "# Liquidity Ratios\n",
        "financials['current_ratio'] = financials['act'] / financials['lct']\n",
        "financials['quick_ratio'] = (financials['act'] - financials['invt']) / financials['lct']\n",
        "financials['quick_ratio_alt'] = (financials['che'] + financials['rect']) / financials['lct']\n",
        "financials['cash_ratio'] = financials['che'] / financials['lct']\n",
        "\n",
        "# --- Intangible Ratios ---\n",
        "financials['intan_to_assets'] = financials['intan'] / financials['total_assets']\n",
        "financials['goodwill_to_assets'] = financials['gdwl'] / financials['total_assets']\n",
        "\n",
        "# --- Cash Flow Ratios ---\n",
        "financials['ocf_to_debt'] = financials['oancf'] / financials['total_debt']\n",
        "financials['free_cash_flow'] = financials['oancf'] - financials['capx']\n",
        "financials['fcf_to_debt'] = financials['free_cash_flow'] / financials['total_debt']\n",
        "\n",
        "# --- Accruals Ratio ---\n",
        "financials['avg_at'] = financials.groupby('gvkey')['total_assets'].transform(\n",
        "    lambda x: (x.shift(1) + x) / 2\n",
        ")\n",
        "financials['accruals'] = (financials['ni'] - financials['oancf']) / financials['avg_at']\n",
        "financials['accruals_alt'] = financials['oancf'] / financials['ni']\n",
        "\n",
        "# --- Efficiency Ratios ---\n",
        "financials['inventory_turnover'] = financials['cogs'] / financials['invt']\n",
        "financials['receivables_turnover'] = financials['sale'] / financials['rect']\n",
        "financials['asset_turnover'] = financials['sale'] / financials['total_assets']\n",
        "\n",
        "# --- Market Valuation Ratios ---\n",
        "financials['book_value_per_share'] = financials['ceq'] / financials['csho']\n",
        "financials['price_to_book'] = (\n",
        "    financials['prcc_f'] / financials['book_value_per_share']\n",
        ")\n",
        "\n",
        "financials['eps'] = financials['ni'] / financials['csho']\n",
        "financials['price_to_earnings'] = financials['prcc_f'] / financials['eps']\n",
        "\n",
        "# --- Dividend Ratios ---\n",
        "financials['dividend_yield'] = financials['dv'] / financials['prcc_f']\n",
        "financials['dividend_payout'] = financials['dv'] / financials['ni']\n",
        "\n",
        "# --- Operational Efficiency ---\n",
        "financials['sg&a_intensity'] = financials['xsga'] / financials['sale']\n",
        "financials['rd_intensity'] = financials['xrd'] / financials['sale']\n",
        "financials['capex_ratio'] = financials['capx'] / financials['sale']\n",
        "\n",
        "# --- Growth Ratios ---\n",
        "financials['sales_growth'] = financials.groupby('gvkey')['sale'].pct_change(fill_method=None)\n",
        "financials['earnings_growth'] = financials.groupby('gvkey')['ni'].pct_change(fill_method=None)\n",
        "financials['ocf_growth'] = financials.groupby('gvkey')['oancf'].pct_change(fill_method=None)\n",
        "financials['asset_growth'] = financials.groupby('gvkey')['total_assets'].pct_change(fill_method=None)\n",
        "financials['dividend_growth'] = financials.groupby('gvkey')['dv'].pct_change(fill_method=None)\n",
        "\n",
        "# --- Other straightforward ratios ---\n",
        "financials['equity_to_assets'] = financials['ceq'] / financials['total_assets']\n",
        "financials['xsga_to_sales'] = financials['xsga'] / financials['sale']\n",
        "\n",
        "# Balance Sheet Items (normalized by total_assets)\n",
        "financials['act_norm'] = financials['act'] / financials['total_assets']\n",
        "financials['lct_norm'] = financials['lct'] / financials['total_assets']\n",
        "financials['invt_norm'] = financials['invt'] / financials['total_assets']\n",
        "financials['rect_norm'] = financials['rect'] / financials['total_assets']\n",
        "financials['ap_norm'] = financials['ap'] / financials['total_assets']\n",
        "\n",
        "# Income Statement Items (normalized by sale)\n",
        "financials['xint_margin'] = financials['xint'] / financials['sale']\n",
        "financials['xrd_intensity'] = financials['xrd'] / financials['sale']\n",
        "financials['xsga_intensity'] = financials['xsga'] / financials['sale']\n",
        "financials['ebit_margin'] = financials['ebit'] / financials['sale']\n",
        "financials['cogs_margin'] = financials['cogs'] / financials['sale']\n",
        "financials['ni_margin'] = financials['ni'] / financials['sale']\n",
        "financials['txt_rate'] = financials['txt'] / financials['sale']\n",
        "\n",
        "# Cash Flow Items (normalized by total_assets)\n",
        "financials['oancf_norm'] = financials['oancf'] / financials['total_assets']\n",
        "financials['fincf_norm'] = financials['fincf'] / financials['total_assets']\n",
        "financials['capx_norm'] = financials['capx'] / financials['total_assets']\n",
        "\n",
        "# Remove infinities\n",
        "for ratio in list_factor_givenhw:\n",
        "    financials = financials[(financials[ratio] != np.inf) & (financials[ratio] != -np.inf)]\n",
        "\n",
        "# Remove NaN values\n",
        "for ratio in list_factor_givenhw:\n",
        "    financials = financials[~financials[ratio].isna()]\n",
        "\n",
        "\n",
        "gvkeys = financials.gvkey.unique()\n",
        "print(f'There are {len(financials):,} rows in financials')\n",
        "print(f'There are {len(gvkeys):,} unique companies')"
      ],
      "metadata": {
        "colab": {
          "base_uri": "https://localhost:8080/"
        },
        "id": "9dBFVXpN65Vl",
        "outputId": "30f6dd73-0889-4980-8abf-5456eec51951"
      },
      "execution_count": null,
      "outputs": [
        {
          "output_type": "stream",
          "name": "stdout",
          "text": [
            "There are 19,247 rows in financials\n",
            "There are 2,655 unique companies\n"
          ]
        }
      ]
    },
    {
      "cell_type": "code",
      "execution_count": null,
      "metadata": {
        "colab": {
          "base_uri": "https://localhost:8080/"
        },
        "id": "kEzED75v4kga",
        "outputId": "a6f2c26a-d0d5-4b50-c264-7edc2cfe3f76"
      },
      "outputs": [
        {
          "output_type": "stream",
          "name": "stdout",
          "text": [
            "There are 19,244 rows in financials\n",
            "There are 2,654 unique companies\n"
          ]
        }
      ],
      "source": [
        "### Ratios From Project2\n",
        "list_factor_new=[\n",
        "    'gross_margin',\n",
        "    'de_ratio',\n",
        "    'asset_turnover',\n",
        "    'inv_turnover',\n",
        "    'rect_turnover',\n",
        "    'ap_turnover',\n",
        "    'current_ratio',\n",
        "    'quick_ratio',\n",
        "    'cash_ratio',\n",
        "    'ocf_ratio',\n",
        "    'capx_ratio',\n",
        "    'rnd_sale_ratio',\n",
        "    'xsga_sale_ratio',\n",
        "    'tax_sale_ratio']\n",
        "\n",
        "# --- Profitability Metrics ---\n",
        "if {'sale', 'cogs'}.issubset(financials.columns):\n",
        "    financials['gross_margin'] = (financials['sale'] - financials['cogs']) / financials['sale']\n",
        "\n",
        "# --- Leverage / Solvency Metrics ---\n",
        "if {'lt', 'ceq'}.issubset(financials.columns):\n",
        "    financials['de_ratio'] = financials['lt'] / financials['ceq']\n",
        "\n",
        "# --- Efficiency / Operating Metrics ---\n",
        "if {'sale', 'total_assets'}.issubset(financials.columns):\n",
        "    financials['asset_turnover'] = financials['sale'] / financials['total_assets']\n",
        "if {'sale', 'invt'}.issubset(financials.columns):\n",
        "    financials['inv_turnover'] = financials['sale'] / financials['invt']\n",
        "if {'sale', 'rect'}.issubset(financials.columns):\n",
        "    financials['rect_turnover'] = financials['sale'] / financials['rect']\n",
        "if {'cogs', 'ap'}.issubset(financials.columns):\n",
        "    financials['ap_turnover'] = financials['cogs'] / financials['ap']\n",
        "\n",
        "# --- Liquidity Metrics ---\n",
        "if {'act', 'lct'}.issubset(financials.columns):\n",
        "    financials['current_ratio'] = financials['act'] / financials['lct']\n",
        "if {'act', 'invt', 'lct'}.issubset(financials.columns):\n",
        "    financials['quick_ratio'] = (financials['act'] - financials['invt']) / financials['lct']\n",
        "if {'che', 'lt'}.issubset(financials.columns):\n",
        "    financials['cash_ratio'] = financials['che'] / financials['lt']\n",
        "\n",
        "# --- Cash Flow Metrics ---\n",
        "if {'oancf', 'total_assets'}.issubset(financials.columns):\n",
        "    financials['ocf_ratio'] = financials['oancf'] / financials['total_assets']\n",
        "if {'capx', 'total_assets'}.issubset(financials.columns):\n",
        "    financials['capx_ratio'] = financials['capx'] / financials['total_assets']\n",
        "if {'xrd', 'sale'}.issubset(financials.columns):\n",
        "    financials['rnd_sale_ratio'] = financials['xrd'] / financials['sale']\n",
        "if {'xsga', 'sale'}.issubset(financials.columns):\n",
        "    financials['xsga_sale_ratio'] = financials['xsga'] / financials['sale']\n",
        "\n",
        "# --- Tax Expense Metric ---\n",
        "if {'txt', 'sale'}.issubset(financials.columns):\n",
        "    financials['tax_sale_ratio'] = financials['txt'] / financials['sale']\n",
        "\n",
        "# Remove infinities\n",
        "for ratio in list_factor_new:\n",
        "    financials = financials[(financials[ratio] != np.inf) & (financials[ratio] != -np.inf)]\n",
        "\n",
        "# Remove NaN values\n",
        "for ratio in list_factor_new:\n",
        "    financials = financials[~financials[ratio].isna()]\n",
        "\n",
        "gvkeys = financials.gvkey.unique()\n",
        "print(f'There are {len(financials):,} rows in financials')\n",
        "print(f'There are {len(gvkeys):,} unique companies')"
      ]
    },
    {
      "cell_type": "markdown",
      "source": [
        "## Step 1.3 Pulling default data\n"
      ],
      "metadata": {
        "id": "YL6yBW99HJHz"
      }
    },
    {
      "cell_type": "code",
      "execution_count": null,
      "metadata": {
        "colab": {
          "base_uri": "https://localhost:8080/",
          "height": 224
        },
        "id": "cCvyt5H_4xsZ",
        "outputId": "6b2aec6d-1ee7-44d8-c6f6-20977c91b239"
      },
      "outputs": [
        {
          "output_type": "stream",
          "name": "stdout",
          "text": [
            "There are 1,196 defaults\n"
          ]
        },
        {
          "output_type": "execute_result",
          "data": {
            "text/plain": [
              "    gvkey default_date\n",
              "0  065345   2010-06-28\n",
              "1  126136   2006-09-15\n",
              "2  060839   2003-06-13\n",
              "3  021701   2004-02-24\n",
              "4  063755   2000-05-02"
            ],
            "text/html": [
              "\n",
              "  <div id=\"df-a0056fa8-6206-4e3c-96da-1317d1a4a310\" class=\"colab-df-container\">\n",
              "    <div>\n",
              "<style scoped>\n",
              "    .dataframe tbody tr th:only-of-type {\n",
              "        vertical-align: middle;\n",
              "    }\n",
              "\n",
              "    .dataframe tbody tr th {\n",
              "        vertical-align: top;\n",
              "    }\n",
              "\n",
              "    .dataframe thead th {\n",
              "        text-align: right;\n",
              "    }\n",
              "</style>\n",
              "<table border=\"1\" class=\"dataframe\">\n",
              "  <thead>\n",
              "    <tr style=\"text-align: right;\">\n",
              "      <th></th>\n",
              "      <th>gvkey</th>\n",
              "      <th>default_date</th>\n",
              "    </tr>\n",
              "  </thead>\n",
              "  <tbody>\n",
              "    <tr>\n",
              "      <th>0</th>\n",
              "      <td>065345</td>\n",
              "      <td>2010-06-28</td>\n",
              "    </tr>\n",
              "    <tr>\n",
              "      <th>1</th>\n",
              "      <td>126136</td>\n",
              "      <td>2006-09-15</td>\n",
              "    </tr>\n",
              "    <tr>\n",
              "      <th>2</th>\n",
              "      <td>060839</td>\n",
              "      <td>2003-06-13</td>\n",
              "    </tr>\n",
              "    <tr>\n",
              "      <th>3</th>\n",
              "      <td>021701</td>\n",
              "      <td>2004-02-24</td>\n",
              "    </tr>\n",
              "    <tr>\n",
              "      <th>4</th>\n",
              "      <td>063755</td>\n",
              "      <td>2000-05-02</td>\n",
              "    </tr>\n",
              "  </tbody>\n",
              "</table>\n",
              "</div>\n",
              "    <div class=\"colab-df-buttons\">\n",
              "\n",
              "  <div class=\"colab-df-container\">\n",
              "    <button class=\"colab-df-convert\" onclick=\"convertToInteractive('df-a0056fa8-6206-4e3c-96da-1317d1a4a310')\"\n",
              "            title=\"Convert this dataframe to an interactive table.\"\n",
              "            style=\"display:none;\">\n",
              "\n",
              "  <svg xmlns=\"http://www.w3.org/2000/svg\" height=\"24px\" viewBox=\"0 -960 960 960\">\n",
              "    <path d=\"M120-120v-720h720v720H120Zm60-500h600v-160H180v160Zm220 220h160v-160H400v160Zm0 220h160v-160H400v160ZM180-400h160v-160H180v160Zm440 0h160v-160H620v160ZM180-180h160v-160H180v160Zm440 0h160v-160H620v160Z\"/>\n",
              "  </svg>\n",
              "    </button>\n",
              "\n",
              "  <style>\n",
              "    .colab-df-container {\n",
              "      display:flex;\n",
              "      gap: 12px;\n",
              "    }\n",
              "\n",
              "    .colab-df-convert {\n",
              "      background-color: #E8F0FE;\n",
              "      border: none;\n",
              "      border-radius: 50%;\n",
              "      cursor: pointer;\n",
              "      display: none;\n",
              "      fill: #1967D2;\n",
              "      height: 32px;\n",
              "      padding: 0 0 0 0;\n",
              "      width: 32px;\n",
              "    }\n",
              "\n",
              "    .colab-df-convert:hover {\n",
              "      background-color: #E2EBFA;\n",
              "      box-shadow: 0px 1px 2px rgba(60, 64, 67, 0.3), 0px 1px 3px 1px rgba(60, 64, 67, 0.15);\n",
              "      fill: #174EA6;\n",
              "    }\n",
              "\n",
              "    .colab-df-buttons div {\n",
              "      margin-bottom: 4px;\n",
              "    }\n",
              "\n",
              "    [theme=dark] .colab-df-convert {\n",
              "      background-color: #3B4455;\n",
              "      fill: #D2E3FC;\n",
              "    }\n",
              "\n",
              "    [theme=dark] .colab-df-convert:hover {\n",
              "      background-color: #434B5C;\n",
              "      box-shadow: 0px 1px 3px 1px rgba(0, 0, 0, 0.15);\n",
              "      filter: drop-shadow(0px 1px 2px rgba(0, 0, 0, 0.3));\n",
              "      fill: #FFFFFF;\n",
              "    }\n",
              "  </style>\n",
              "\n",
              "    <script>\n",
              "      const buttonEl =\n",
              "        document.querySelector('#df-a0056fa8-6206-4e3c-96da-1317d1a4a310 button.colab-df-convert');\n",
              "      buttonEl.style.display =\n",
              "        google.colab.kernel.accessAllowed ? 'block' : 'none';\n",
              "\n",
              "      async function convertToInteractive(key) {\n",
              "        const element = document.querySelector('#df-a0056fa8-6206-4e3c-96da-1317d1a4a310');\n",
              "        const dataTable =\n",
              "          await google.colab.kernel.invokeFunction('convertToInteractive',\n",
              "                                                    [key], {});\n",
              "        if (!dataTable) return;\n",
              "\n",
              "        const docLinkHtml = 'Like what you see? Visit the ' +\n",
              "          '<a target=\"_blank\" href=https://colab.research.google.com/notebooks/data_table.ipynb>data table notebook</a>'\n",
              "          + ' to learn more about interactive tables.';\n",
              "        element.innerHTML = '';\n",
              "        dataTable['output_type'] = 'display_data';\n",
              "        await google.colab.output.renderOutput(dataTable, element);\n",
              "        const docLink = document.createElement('div');\n",
              "        docLink.innerHTML = docLinkHtml;\n",
              "        element.appendChild(docLink);\n",
              "      }\n",
              "    </script>\n",
              "  </div>\n",
              "\n",
              "\n",
              "    <div id=\"df-55b78314-1a13-4dbd-ae9e-d086c5da7126\">\n",
              "      <button class=\"colab-df-quickchart\" onclick=\"quickchart('df-55b78314-1a13-4dbd-ae9e-d086c5da7126')\"\n",
              "                title=\"Suggest charts\"\n",
              "                style=\"display:none;\">\n",
              "\n",
              "<svg xmlns=\"http://www.w3.org/2000/svg\" height=\"24px\"viewBox=\"0 0 24 24\"\n",
              "     width=\"24px\">\n",
              "    <g>\n",
              "        <path d=\"M19 3H5c-1.1 0-2 .9-2 2v14c0 1.1.9 2 2 2h14c1.1 0 2-.9 2-2V5c0-1.1-.9-2-2-2zM9 17H7v-7h2v7zm4 0h-2V7h2v10zm4 0h-2v-4h2v4z\"/>\n",
              "    </g>\n",
              "</svg>\n",
              "      </button>\n",
              "\n",
              "<style>\n",
              "  .colab-df-quickchart {\n",
              "      --bg-color: #E8F0FE;\n",
              "      --fill-color: #1967D2;\n",
              "      --hover-bg-color: #E2EBFA;\n",
              "      --hover-fill-color: #174EA6;\n",
              "      --disabled-fill-color: #AAA;\n",
              "      --disabled-bg-color: #DDD;\n",
              "  }\n",
              "\n",
              "  [theme=dark] .colab-df-quickchart {\n",
              "      --bg-color: #3B4455;\n",
              "      --fill-color: #D2E3FC;\n",
              "      --hover-bg-color: #434B5C;\n",
              "      --hover-fill-color: #FFFFFF;\n",
              "      --disabled-bg-color: #3B4455;\n",
              "      --disabled-fill-color: #666;\n",
              "  }\n",
              "\n",
              "  .colab-df-quickchart {\n",
              "    background-color: var(--bg-color);\n",
              "    border: none;\n",
              "    border-radius: 50%;\n",
              "    cursor: pointer;\n",
              "    display: none;\n",
              "    fill: var(--fill-color);\n",
              "    height: 32px;\n",
              "    padding: 0;\n",
              "    width: 32px;\n",
              "  }\n",
              "\n",
              "  .colab-df-quickchart:hover {\n",
              "    background-color: var(--hover-bg-color);\n",
              "    box-shadow: 0 1px 2px rgba(60, 64, 67, 0.3), 0 1px 3px 1px rgba(60, 64, 67, 0.15);\n",
              "    fill: var(--button-hover-fill-color);\n",
              "  }\n",
              "\n",
              "  .colab-df-quickchart-complete:disabled,\n",
              "  .colab-df-quickchart-complete:disabled:hover {\n",
              "    background-color: var(--disabled-bg-color);\n",
              "    fill: var(--disabled-fill-color);\n",
              "    box-shadow: none;\n",
              "  }\n",
              "\n",
              "  .colab-df-spinner {\n",
              "    border: 2px solid var(--fill-color);\n",
              "    border-color: transparent;\n",
              "    border-bottom-color: var(--fill-color);\n",
              "    animation:\n",
              "      spin 1s steps(1) infinite;\n",
              "  }\n",
              "\n",
              "  @keyframes spin {\n",
              "    0% {\n",
              "      border-color: transparent;\n",
              "      border-bottom-color: var(--fill-color);\n",
              "      border-left-color: var(--fill-color);\n",
              "    }\n",
              "    20% {\n",
              "      border-color: transparent;\n",
              "      border-left-color: var(--fill-color);\n",
              "      border-top-color: var(--fill-color);\n",
              "    }\n",
              "    30% {\n",
              "      border-color: transparent;\n",
              "      border-left-color: var(--fill-color);\n",
              "      border-top-color: var(--fill-color);\n",
              "      border-right-color: var(--fill-color);\n",
              "    }\n",
              "    40% {\n",
              "      border-color: transparent;\n",
              "      border-right-color: var(--fill-color);\n",
              "      border-top-color: var(--fill-color);\n",
              "    }\n",
              "    60% {\n",
              "      border-color: transparent;\n",
              "      border-right-color: var(--fill-color);\n",
              "    }\n",
              "    80% {\n",
              "      border-color: transparent;\n",
              "      border-right-color: var(--fill-color);\n",
              "      border-bottom-color: var(--fill-color);\n",
              "    }\n",
              "    90% {\n",
              "      border-color: transparent;\n",
              "      border-bottom-color: var(--fill-color);\n",
              "    }\n",
              "  }\n",
              "</style>\n",
              "\n",
              "      <script>\n",
              "        async function quickchart(key) {\n",
              "          const quickchartButtonEl =\n",
              "            document.querySelector('#' + key + ' button');\n",
              "          quickchartButtonEl.disabled = true;  // To prevent multiple clicks.\n",
              "          quickchartButtonEl.classList.add('colab-df-spinner');\n",
              "          try {\n",
              "            const charts = await google.colab.kernel.invokeFunction(\n",
              "                'suggestCharts', [key], {});\n",
              "          } catch (error) {\n",
              "            console.error('Error during call to suggestCharts:', error);\n",
              "          }\n",
              "          quickchartButtonEl.classList.remove('colab-df-spinner');\n",
              "          quickchartButtonEl.classList.add('colab-df-quickchart-complete');\n",
              "        }\n",
              "        (() => {\n",
              "          let quickchartButtonEl =\n",
              "            document.querySelector('#df-55b78314-1a13-4dbd-ae9e-d086c5da7126 button');\n",
              "          quickchartButtonEl.style.display =\n",
              "            google.colab.kernel.accessAllowed ? 'block' : 'none';\n",
              "        })();\n",
              "      </script>\n",
              "    </div>\n",
              "\n",
              "    </div>\n",
              "  </div>\n"
            ],
            "application/vnd.google.colaboratory.intrinsic+json": {
              "type": "dataframe",
              "variable_name": "defaults",
              "summary": "{\n  \"name\": \"defaults\",\n  \"rows\": 1196,\n  \"fields\": [\n    {\n      \"column\": \"gvkey\",\n      \"properties\": {\n        \"dtype\": \"string\",\n        \"num_unique_values\": 1196,\n        \"samples\": [\n          \"020500\",\n          \"160282\",\n          \"190578\"\n        ],\n        \"semantic_type\": \"\",\n        \"description\": \"\"\n      }\n    },\n    {\n      \"column\": \"default_date\",\n      \"properties\": {\n        \"dtype\": \"date\",\n        \"min\": \"1990-07-16\",\n        \"max\": \"2025-01-31\",\n        \"num_unique_values\": 947,\n        \"samples\": [\n          \"2002-11-14\",\n          \"2019-04-02\",\n          \"1999-04-05\"\n        ],\n        \"semantic_type\": \"\",\n        \"description\": \"\"\n      }\n    }\n  ]\n}"
            }
          },
          "metadata": {},
          "execution_count": 200
        }
      ],
      "source": [
        "# pulling in the default data and only keeping the first default date\n",
        "defaults = pd.read_pickle(relative_path + \"/\"+ \"S&P ratings.pickle\")\n",
        "\n",
        "defaults = defaults[defaults.ratingsymbol.isin(['D', 'SD', 'R'])]\n",
        "a = defaults.groupby('gvkey', as_index = False).ratingdate.min() # <-- getting the first default date\n",
        "defaults = defaults.merge(a, on = ['gvkey', 'ratingdate'])\n",
        "defaults = defaults[['gvkey', 'ratingdate']]\n",
        "defaults = defaults.drop_duplicates()\n",
        "defaults.columns = ['gvkey', 'default_date']\n",
        "\n",
        "print(f'There are {len(defaults):,} defaults')\n",
        "defaults.head()"
      ]
    },
    {
      "cell_type": "markdown",
      "source": [
        "## Step 1.4 Merging fiancial ratios with default data"
      ],
      "metadata": {
        "id": "0i_UusjOHOgQ"
      }
    },
    {
      "cell_type": "code",
      "execution_count": null,
      "metadata": {
        "colab": {
          "base_uri": "https://localhost:8080/"
        },
        "id": "1fln7_ep4_Lf",
        "outputId": "dc3280ef-b8b1-4c00-dd52-2120b6060058"
      },
      "outputs": [
        {
          "output_type": "stream",
          "name": "stderr",
          "text": [
            "<ipython-input-201-eb864881876b>:12: SettingWithCopyWarning: \n",
            "A value is trying to be set on a copy of a slice from a DataFrame.\n",
            "Try using .loc[row_indexer,col_indexer] = value instead\n",
            "\n",
            "See the caveats in the documentation: https://pandas.pydata.org/pandas-docs/stable/user_guide/indexing.html#returning-a-view-versus-a-copy\n",
            "  data['date_plus_six_months'] = [x + relativedelta(months = 6) for x in data.datadate]\n"
          ]
        },
        {
          "output_type": "stream",
          "name": "stdout",
          "text": [
            "There are 19,003 rows in data\n",
            "there are 49 defaults in the data\n"
          ]
        }
      ],
      "source": [
        "# Merging the data\n",
        "\n",
        "data = pd.merge(financials, defaults, on = 'gvkey', how = 'left')\n",
        "data.loc[data.default_date.isna(), 'default_date'] = dt.date(2999, 12, 31)\n",
        "data = data.sort_values(['gvkey', 'datadate'])\n",
        "\n",
        "# notice that I use months = 5 here.  I was worried about edge cases.\n",
        "data['default_minus_six_months'] = [x - relativedelta(months = 5) for x in data.default_date]\n",
        "data = data[data.datadate < data.default_minus_six_months]\n",
        "del data['default_minus_six_months']\n",
        "\n",
        "data['date_plus_six_months'] = [x + relativedelta(months = 6) for x in data.datadate]\n",
        "data['date_plus_18_months'] = [x + relativedelta(months = 18) for x in data.datadate]\n",
        "\n",
        "data['default_flag'] = 0\n",
        "data.loc[(data.default_date > data.date_plus_six_months) & (data.default_date <= data.date_plus_18_months), 'default_flag'] = 1\n",
        "data = data.drop_duplicates()\n",
        "\n",
        "print(f'There are {len(data):,} rows in data')\n",
        "print(f'there are {data.default_flag.sum()} defaults in the data')"
      ]
    },
    {
      "cell_type": "markdown",
      "metadata": {
        "id": "3Cum1bl-58wd"
      },
      "source": [
        "# Step 2 - Variables Selection"
      ]
    },
    {
      "cell_type": "markdown",
      "source": [
        " I choose to use different cutoffs so that I can keep a relatively large list of positive and negative factors.\n",
        "\n",
        "- AUC >= 0.70\n",
        "- AUC <= 0.25"
      ],
      "metadata": {
        "id": "G7R9nK75Hlt2"
      }
    },
    {
      "cell_type": "code",
      "execution_count": null,
      "metadata": {
        "colab": {
          "base_uri": "https://localhost:8080/"
        },
        "id": "ghgTF4Cu6KHt",
        "outputId": "ec52b961-67eb-4c5d-c45e-df3e1736dbc1"
      },
      "outputs": [
        {
          "output_type": "stream",
          "name": "stdout",
          "text": [
            "\n",
            "The best contenders by AUC are:\n",
            "\n",
            "0.1174    equity_to_assets\n",
            "0.1341    roa\n",
            "0.1361    interest_coverage\n",
            "0.1501    prcc_f\n",
            "0.1528    net_profit_margin\n",
            "0.1528    ni_margin\n",
            "0.1724    eps\n",
            "0.1795    ni\n",
            "0.1835    ocf_to_debt\n",
            "0.2190    book_value_per_share\n",
            "0.2220    dividend_payout\n",
            "0.2363    dscr_fcf\n",
            "0.2440    price_to_book\n",
            "0.2441    fcf_to_debt\n",
            "0.2465    operating_margin_alt\n",
            "0.2465    ebit_margin\n",
            "0.2489    asset_growth\n",
            "0.8053    xint_margin\n",
            "0.8467    debt_to_assets\n",
            "0.8671    debt_to_capital\n",
            "0.8780    liabilities_to_assets\n",
            "1.0000    default_flag\n",
            "\n"
          ]
        }
      ],
      "source": [
        "results = []\n",
        "factors = list(data.columns)\n",
        "for _ in ['gvkey', 'datadate', 'fyear', 'fyr', 'freq', 'default_date', 'date_plus_six_months', 'date_plus_18_months']:\n",
        "    factors.remove(_)\n",
        "\n",
        "for factor in factors:\n",
        "    subdata = data[['default_flag', factor]].copy()\n",
        "    subdata = subdata[~subdata[factor].isna()]\n",
        "    if subdata[factor].empty:\n",
        "      continue\n",
        "    else:\n",
        "      auc = roc_auc_score(subdata.default_flag, subdata[factor])\n",
        "      if (auc >= 0.75) | (auc <= 0.25):\n",
        "          results.append([auc, factor])\n",
        "\n",
        "results = sorted(results, key=lambda x: x[0])\n",
        "print('\\nThe best contenders by AUC are:\\n')\n",
        "for x in results:\n",
        "    print(f'{x[0]:.4f}    {x[1]}')\n",
        "print()"
      ]
    },
    {
      "cell_type": "markdown",
      "source": [
        "Based on the ratios above, I selected the three lowest values (≤ 0.25 range) and the two highest values (≥ 0.75 range). To choose the 5th variable, I compared *interest coverage* and *debt-to-asset*, and ultimately chose ***interest coverage*** because it directly measures a company’s ability to service its debt from operating profits—a key driver of default risk."
      ],
      "metadata": {
        "id": "cVrDhoIkHxJb"
      }
    },
    {
      "cell_type": "markdown",
      "source": [
        "These ratios also covered profitability, leverage and coverage, these three aspects of financial ratios.\n",
        "\n",
        "\n",
        "*   Profitability:\n",
        "  * 'roa'\n",
        "*   Leverage:\n",
        "  * 'equity_to_assets',\n",
        "  * 'liabilities_to_assets'\n",
        "  * 'debt_to_capital'\n",
        "* Coverage:\n",
        "  * 'interest_coverage'\n",
        "\n",
        "\n"
      ],
      "metadata": {
        "id": "guMx0ELAMzvK"
      }
    },
    {
      "cell_type": "code",
      "execution_count": null,
      "metadata": {
        "colab": {
          "base_uri": "https://localhost:8080/"
        },
        "id": "NTrqUOXrKvjy",
        "outputId": "fe3f5bd2-3084-44be-bde1-1dbfdb0c239c"
      },
      "outputs": [
        {
          "output_type": "stream",
          "name": "stdout",
          "text": [
            "\n",
            "There are 19,003 records for analysis.\n",
            "\n",
            "There are 49 defaults for analysis.\n",
            "\n"
          ]
        }
      ],
      "source": [
        "factors = ['equity_to_assets',\n",
        "           'roa',\n",
        "           'liabilities_to_assets',\n",
        "           'interest_coverage',\n",
        "           'debt_to_capital']\n",
        "\n",
        "for factor in factors:\n",
        "    data = data[~data[factor].isna()]\n",
        "data = data[~data.default_flag.isna()]\n",
        "\n",
        "x = data[factors].copy()\n",
        "y = data[['default_flag']].copy()\n",
        "print(f'\\nThere are {len(x):,} records for analysis.')\n",
        "print(f'\\nThere are {y.sum().values[0]} defaults for analysis.\\n')\n",
        "\n",
        "input_data=data.copy()\n"
      ]
    },
    {
      "cell_type": "markdown",
      "source": [
        "The number of default records seems very low. I’ve tried different approaches to see if any actions might affect these numbers. I calculated fewer factors—since some defaults may have been removed as NA or infinite—and I shortened my cutoff period from six months to three, but it still yielded a similar count of 49 default records. Therefore, I’ve decided to proceed with this small number of defaults."
      ],
      "metadata": {
        "id": "1lbBFf9gKVR3"
      }
    },
    {
      "cell_type": "markdown",
      "metadata": {
        "id": "0bb31Aa8LrcG"
      },
      "source": [
        "# Step 3 - Neural Net PD Model"
      ]
    },
    {
      "cell_type": "markdown",
      "source": [
        "## 3.1 Split the dataset with 70%/30% split"
      ],
      "metadata": {
        "id": "Cy8MkjYCLsGK"
      }
    },
    {
      "cell_type": "code",
      "source": [
        "# Train/Validation split (70/30)\n",
        "df = input_data.dropna(subset=factors + ['default_flag'])\n",
        "X = df[factors]\n",
        "y = df['default_flag']\n",
        "\n",
        "\n",
        "X_train, X_val, y_train, y_val = train_test_split(\n",
        "    X, y, test_size=0.30, random_state=42)"
      ],
      "metadata": {
        "id": "nZCI8Vyht9Ld"
      },
      "execution_count": null,
      "outputs": []
    },
    {
      "cell_type": "markdown",
      "source": [
        "## 3.2 Logistic using StatsModels"
      ],
      "metadata": {
        "id": "kFnceccPuAGR"
      }
    },
    {
      "cell_type": "code",
      "execution_count": null,
      "metadata": {
        "colab": {
          "base_uri": "https://localhost:8080/"
        },
        "id": "chl6XtxXLvfV",
        "outputId": "053c4405-bdc3-4db5-fe14-5b86ccd9744e"
      },
      "outputs": [
        {
          "output_type": "stream",
          "name": "stdout",
          "text": [
            "Optimization terminated successfully.\n",
            "         Current function value: 0.017595\n",
            "         Iterations 13\n",
            "                           Logit Regression Results                           \n",
            "==============================================================================\n",
            "Dep. Variable:           default_flag   No. Observations:                13302\n",
            "Model:                          Logit   Df Residuals:                    13296\n",
            "Method:                           MLE   Df Model:                            5\n",
            "Date:                Thu, 08 May 2025   Pseudo R-squ.:                 0.05926\n",
            "Time:                        06:56:50   Log-Likelihood:                -234.04\n",
            "converged:                       True   LL-Null:                       -248.79\n",
            "Covariance Type:            nonrobust   LLR p-value:                 1.860e-05\n",
            "=========================================================================================\n",
            "                            coef    std err          z      P>|z|      [0.025      0.975]\n",
            "-----------------------------------------------------------------------------------------\n",
            "const                    -7.6689      1.591     -4.821      0.000     -10.787      -4.551\n",
            "equity_to_assets          0.8696      1.575      0.552      0.581      -2.217       3.956\n",
            "roa                       0.2599      0.366      0.710      0.478      -0.458       0.978\n",
            "liabilities_to_assets     1.9000      1.619      1.174      0.241      -1.273       5.073\n",
            "interest_coverage        -0.0003      0.000     -0.705      0.481      -0.001       0.001\n",
            "debt_to_capital           0.4011      0.102      3.950      0.000       0.202       0.600\n",
            "=========================================================================================\n",
            "\n",
            "The logistic for training dataset gets a score of 0.8534\n",
            "\n",
            "StatsModels coefficients:\n",
            "const                   -7.668867\n",
            "equity_to_assets         0.869611\n",
            "roa                      0.259948\n",
            "liabilities_to_assets    1.899983\n",
            "interest_coverage       -0.000325\n",
            "debt_to_capital          0.401107\n",
            "dtype: float64 \n",
            "\n",
            "Optimization terminated successfully.\n",
            "         Current function value: 0.015619\n",
            "         Iterations 12\n",
            "\n",
            "The logistic for validation dataset gets a score of 0.8540\n",
            "\n",
            "StatsModels coefficients:\n",
            "const                   -7.507642\n",
            "equity_to_assets         0.713094\n",
            "roa                      0.241188\n",
            "liabilities_to_assets    1.850781\n",
            "interest_coverage       -0.002938\n",
            "debt_to_capital          0.040224\n",
            "dtype: float64 \n",
            "\n"
          ]
        }
      ],
      "source": [
        "### Training Set\n",
        "X_train_sm = sm.add_constant(X_train)\n",
        "sm_train = sm.Logit(y_train, X_train_sm).fit()\n",
        "print(sm_train.summary())\n",
        "\n",
        "train_scores = sm_train.predict(X_train_sm)\n",
        "print(f'\\nThe logistic for training dataset gets a score of {roc_auc_score(y_train, train_scores):.4f}\\n')\n",
        "\n",
        "print(\"StatsModels coefficients:\")\n",
        "print(sm_train.params, \"\\n\")\n",
        "\n",
        "### Validation Set\n",
        "X_val_sm = sm.add_constant(X_val)\n",
        "sm_val = sm.Logit(y_val, X_val_sm).fit()\n",
        "\n",
        "val_scores = sm_val.predict(X_val_sm)\n",
        "print(f'\\nThe logistic for validation dataset gets a score of {roc_auc_score(y_val, val_scores):.4f}\\n')\n",
        "\n",
        "print(\"StatsModels coefficients:\")\n",
        "print(sm_val.params, \"\\n\")"
      ]
    },
    {
      "cell_type": "markdown",
      "source": [
        "We get AUCs of 0.8534 (train) and 0.8540 (validation), so the model separates defaulters from non-defaulters quite well with almost no overfitting."
      ],
      "metadata": {
        "id": "dTWOY7RMOFVW"
      }
    },
    {
      "cell_type": "markdown",
      "source": [
        "## 3.3 Logistic using Neural Nets"
      ],
      "metadata": {
        "id": "K9LA0oZYvTmM"
      }
    },
    {
      "cell_type": "code",
      "source": [
        "class LogisticNet(nn.Module):\n",
        "    def __init__(self, input_dim: int):\n",
        "        super().__init__()\n",
        "        self.linear = nn.Linear(input_dim, 1)\n",
        "    def forward(self, x: torch.Tensor) -> torch.Tensor:\n",
        "        return self.linear(x)"
      ],
      "metadata": {
        "id": "6jK2lT_NwMcT"
      },
      "execution_count": null,
      "outputs": []
    },
    {
      "cell_type": "code",
      "source": [
        "# Extract target intercept & weights from training fit\n",
        "# params: first element is intercept, rest are feature coefficients\n",
        "params    = sm_train.params.values\n",
        "b_target  = torch.tensor(params[0], dtype=torch.float32)\n",
        "w_target  = torch.tensor(params[1:], dtype=torch.float32).unsqueeze(1)\n",
        "\n",
        "# Prepare PyTorch data (no constant column; intercept learned via bias)\n",
        "X_train_tensor = torch.tensor(\n",
        "    X_train.values if hasattr(X_train, 'values') else X_train,\n",
        "    dtype=torch.float32\n",
        ")\n",
        "y_train_tensor = torch.tensor(\n",
        "    y_train.values if hasattr(y_train, 'values') else y_train,\n",
        "    dtype=torch.float32\n",
        ")\n",
        "X_val_tensor = torch.tensor(\n",
        "    X_val.values if hasattr(X_val, 'values') else X_val,\n",
        "    dtype=torch.float32\n",
        ")\n",
        "y_val_tensor = torch.tensor(\n",
        "    y_val.values if hasattr(y_val, 'values') else y_val,\n",
        "    dtype=torch.float32\n",
        ")\n",
        "\n",
        "input_dim = X_train_tensor.shape[1]"
      ],
      "metadata": {
        "id": "rpdNLPmgPt-d"
      },
      "execution_count": null,
      "outputs": []
    },
    {
      "cell_type": "markdown",
      "source": [
        "I experimented with different combinations of learning rate and number of epochs. I found that it's better to adjust them inversely — for example, when lowering the learning rate from 0.02 to 0.01, it's more effective to increase the number of epochs from 2,000 to 10,000. This is likely because a smaller learning rate requires more iterations to reach convergence."
      ],
      "metadata": {
        "id": "_xxlDuTLyaoD"
      }
    },
    {
      "cell_type": "code",
      "source": [
        "model_L   = LogisticNet(input_dim)\n",
        "criterion = nn.BCEWithLogitsLoss()\n",
        "optimizer = torch.optim.Adam(model_L.parameters(), lr=0.01)\n",
        "\n",
        "tol        = 1e-4\n",
        "max_epochs = 10000\n",
        "\n",
        "train_losses = []\n",
        "val_losses   = []\n",
        "\n",
        "for epoch in range(1, max_epochs+1):\n",
        "    model_L.train()\n",
        "    optimizer.zero_grad()\n",
        "    logits     = model_L(X_train_tensor).squeeze()\n",
        "    loss       = criterion(logits, y_train_tensor)\n",
        "    loss.backward()\n",
        "    optimizer.step()\n",
        "\n",
        "    # record train loss\n",
        "    train_losses.append(loss.item())\n",
        "\n",
        "    # compute & record validation loss\n",
        "    model_L.eval()\n",
        "    with torch.no_grad():\n",
        "        val_logits = model_L(X_val_tensor).squeeze()\n",
        "        val_loss   = criterion(val_logits, y_val_tensor)\n",
        "    val_losses.append(val_loss.item())\n",
        "\n",
        "    # convergence check\n",
        "    with torch.no_grad():\n",
        "        weights = model_L.linear.weight.t()\n",
        "        bias    = model_L.linear.bias\n",
        "\n",
        "        cond_w = torch.max(torch.abs(weights - w_target)) < tol\n",
        "        cond_b = torch.abs(bias - b_target) < tol\n",
        "\n",
        "        if cond_w and cond_b:\n",
        "            print(f\"Converged to StatsModels weights at epoch {epoch}\\n\")\n",
        "            break\n",
        "else:\n",
        "    print(f\"No convergence within {max_epochs} epochs\\n\")\n",
        "\n",
        "# Evaluate PyTorch model performance\n",
        "model_L.eval()\n",
        "with torch.no_grad():\n",
        "    train_probs = torch.sigmoid(model_L(X_train_tensor).squeeze()).numpy()\n",
        "    val_probs   = torch.sigmoid(model_L(X_val_tensor).squeeze()).numpy()\n",
        "\n",
        "print(f\"PyTorch Train AUC: {roc_auc_score(y_train, train_probs):.4f}\")\n",
        "print(f\"PyTorch Val   AUC: {roc_auc_score(y_val,   val_probs):.4f}\")\n",
        "\n",
        "# Plot loss curves\n",
        "plt.figure()\n",
        "plt.plot(train_losses, label='Train Loss')\n",
        "plt.plot(val_losses,   label='Val   Loss')\n",
        "plt.xlabel('Epoch')\n",
        "plt.ylabel('Loss')\n",
        "plt.title('Training vs. Validation Loss')\n",
        "plt.legend()\n",
        "plt.show()"
      ],
      "metadata": {
        "colab": {
          "base_uri": "https://localhost:8080/",
          "height": 543
        },
        "id": "22xtgPBKPOLp",
        "outputId": "e03c2746-f2c3-4e57-f50e-9101d0a75a27"
      },
      "execution_count": null,
      "outputs": [
        {
          "output_type": "stream",
          "name": "stdout",
          "text": [
            "No convergence within 10000 epochs\n",
            "\n",
            "PyTorch Train AUC: 0.8730\n",
            "PyTorch Val   AUC: 0.8683\n"
          ]
        },
        {
          "output_type": "display_data",
          "data": {
            "text/plain": [
              "<Figure size 640x480 with 1 Axes>"
            ],
            "image/png": "[encoded data removed]"
          },
          "metadata": {}
        }
      ]
    },
    {
      "cell_type": "markdown",
      "source": [
        "The above loss curve indicates that the convergence is faster. Both train and val losses plunge from double‐digits down to almost zero within the first few hundred epochs. After that, they basically flat-line at near zero for the remaining 9,000+ epochs. Also, there is no obvious overfitting. The training and validation losses track almost perfectly, and your AUCs (0.8730 vs. 0.8683) are nearly identical. That tells the model generalizes cleanly."
      ],
      "metadata": {
        "id": "xipvc87wOc6q"
      }
    },
    {
      "cell_type": "code",
      "source": [
        "model_L.state_dict()"
      ],
      "metadata": {
        "colab": {
          "base_uri": "https://localhost:8080/"
        },
        "id": "y41nph2liabZ",
        "outputId": "d33fee20-1a6a-40a1-86a9-93e59e75f035"
      },
      "execution_count": null,
      "outputs": [
        {
          "output_type": "execute_result",
          "data": {
            "text/plain": [
              "OrderedDict([('linear.weight',\n",
              "              tensor([[-0.7415,  0.4487,  0.3170, -0.0066,  0.4045]])),\n",
              "             ('linear.bias', tensor([-6.2633]))])"
            ]
          },
          "metadata": {},
          "execution_count": 248
        }
      ]
    },
    {
      "cell_type": "code",
      "source": [
        "weight_arr = model_L.linear.weight.detach().cpu().numpy().flatten()\n",
        "bias_val   = model_L.linear.bias.detach().cpu().numpy().item()\n",
        "\n",
        "if hasattr(X_train, 'columns'):\n",
        "    feature_names = X_train.columns.tolist()\n",
        "else:\n",
        "    feature_names = [f'x{i}' for i in range(X_train.shape[1])]\n",
        "\n",
        "coef_series = pd.Series(\n",
        "    data=np.concatenate([[bias_val], weight_arr]),\n",
        "    index=['Intercept'] + feature_names\n",
        ")\n",
        "\n",
        "print(\"LogisticNet coefficients:\")\n",
        "print(coef_series)"
      ],
      "metadata": {
        "colab": {
          "base_uri": "https://localhost:8080/"
        },
        "id": "eNM6E1QgRrQs",
        "outputId": "f8cd6e96-1534-4094-a9e2-a388dd2048e7"
      },
      "execution_count": null,
      "outputs": [
        {
          "output_type": "stream",
          "name": "stdout",
          "text": [
            "LogisticNet coefficients:\n",
            "Intercept               -6.263308\n",
            "equity_to_assets        -0.741535\n",
            "roa                      0.448656\n",
            "liabilities_to_assets    0.316987\n",
            "interest_coverage       -0.006603\n",
            "debt_to_capital          0.404529\n",
            "dtype: float64\n"
          ]
        }
      ]
    },
    {
      "cell_type": "code",
      "source": [
        "print(\"StatsModels coefficients:\")\n",
        "print(sm_train.params, \"\\n\")"
      ],
      "metadata": {
        "colab": {
          "base_uri": "https://localhost:8080/"
        },
        "id": "8UmgiIJSWgt5",
        "outputId": "bdcf4952-3f10-4b86-c428-e690071a95ee"
      },
      "execution_count": null,
      "outputs": [
        {
          "output_type": "stream",
          "name": "stdout",
          "text": [
            "StatsModels coefficients:\n",
            "const                   -7.668867\n",
            "equity_to_assets         0.869611\n",
            "roa                      0.259948\n",
            "liabilities_to_assets    1.899983\n",
            "interest_coverage       -0.000325\n",
            "debt_to_capital          0.401107\n",
            "dtype: float64 \n",
            "\n"
          ]
        }
      ]
    },
    {
      "cell_type": "markdown",
      "source": [
        "The above comparison between LogisticNet coefficients and StatsModels coefficients shows noticeable different in some variables. I tried different learning rates and epochs, but still hard to converge them to the same. However, after we apply the StandardScaler method in the next section, this problem will be solved."
      ],
      "metadata": {
        "id": "P2vmav9iP9Du"
      }
    },
    {
      "cell_type": "markdown",
      "source": [
        "## 3.4 Use *scikit-learn* standardscaler"
      ],
      "metadata": {
        "id": "ieJ9t1E8vgyl"
      }
    },
    {
      "cell_type": "markdown",
      "source": [
        "### 3.4.1 Logistic using StatsModels"
      ],
      "metadata": {
        "id": "b8-5uCaiZ-BH"
      }
    },
    {
      "cell_type": "code",
      "source": [
        "# Scale features using StatsModels\n",
        "scaler = StandardScaler()\n",
        "X_train_scaled = scaler.fit_transform(X_train)\n",
        "X_val_scaled   = scaler.transform(X_val)\n",
        "\n",
        "# Re-fit StatsModels on the scaled data\n",
        "Xtsm = sm.add_constant(X_train_scaled)\n",
        "sm_scaled = sm.Logit(y_train, Xtsm).fit(disp=False)\n",
        "\n",
        "# AUC on scaled data\n",
        "train_auc_scaled = roc_auc_score(y_train, sm_scaled.predict(Xtsm))\n",
        "Xvsm = sm.add_constant(X_val_scaled)\n",
        "val_auc_scaled   = roc_auc_score(y_val,   sm_scaled.predict(Xvsm))\n",
        "\n",
        "print(\"StatsModels (scaled) Train AUC:\", f\"{train_auc_scaled:.4f}\")\n",
        "print(\"StatsModels (scaled) Val   AUC:\", f\"{val_auc_scaled:.4f}\\n\")\n",
        "\n",
        "print(\"StatsModels (scaled) coefficients:\")\n",
        "print(sm_scaled.params, \"\\n\")\n"
      ],
      "metadata": {
        "colab": {
          "base_uri": "https://localhost:8080/"
        },
        "id": "kAPfPSqdmP10",
        "outputId": "7edf78f7-8f21-4333-ae88-a9d61f40218c"
      },
      "execution_count": null,
      "outputs": [
        {
          "output_type": "stream",
          "name": "stdout",
          "text": [
            "StatsModels (scaled) Train AUC: 0.8534\n",
            "StatsModels (scaled) Val   AUC: 0.8564\n",
            "\n",
            "StatsModels (scaled) coefficients:\n",
            "const   -6.082430\n",
            "x1       0.253661\n",
            "x2       0.058848\n",
            "x3       0.518527\n",
            "x4      -0.538578\n",
            "x5       0.399699\n",
            "dtype: float64 \n",
            "\n"
          ]
        }
      ]
    },
    {
      "cell_type": "code",
      "source": [
        "# Convert scaled‐coef back to original feature scale\n",
        "coef_s   = sm_scaled.params.values\n",
        "b_s, w_s = coef_s[0], coef_s[1:]\n",
        "\n",
        "# back‐transform:\n",
        "w_orig = w_s / scaler.scale_\n",
        "b_orig = b_s - (w_s * scaler.mean_ / scaler.scale_).sum()\n",
        "\n",
        "orig_index = [\"Intercept\"] + (X_train.columns.tolist() if hasattr(X_train, \"columns\")\n",
        "                              else [f\"x{i}\" for i in range(X_train.shape[1])])\n",
        "coef_orig = pd.Series([b_orig, *w_orig], index=orig_index)\n",
        "print(\"Back-converted StatsModels coefficients:\")\n",
        "print(coef_orig, \"\\n\")\n",
        "\n",
        "# Compare to your original sm_train.params:\n",
        "print(\"Original StatsModels coefficients:\")\n",
        "print(sm_train.params, \"\\n\")"
      ],
      "metadata": {
        "colab": {
          "base_uri": "https://localhost:8080/"
        },
        "id": "ju1ZSz2PeZNt",
        "outputId": "5f671788-d529-43c0-e177-47e7016a76f2"
      },
      "execution_count": null,
      "outputs": [
        {
          "output_type": "stream",
          "name": "stdout",
          "text": [
            "Back-converted StatsModels coefficients:\n",
            "Intercept               -7.668867\n",
            "equity_to_assets         0.869611\n",
            "roa                      0.259948\n",
            "liabilities_to_assets    1.899983\n",
            "interest_coverage       -0.000325\n",
            "debt_to_capital          0.401107\n",
            "dtype: float64 \n",
            "\n",
            "Original StatsModels coefficients:\n",
            "const                   -7.668867\n",
            "equity_to_assets         0.869611\n",
            "roa                      0.259948\n",
            "liabilities_to_assets    1.899983\n",
            "interest_coverage       -0.000325\n",
            "debt_to_capital          0.401107\n",
            "dtype: float64 \n",
            "\n"
          ]
        }
      ]
    },
    {
      "cell_type": "markdown",
      "source": [
        "The StatsModel results are exactly the same whether or not the X variables are scaled. This means scaling does not affect the StatsModel method."
      ],
      "metadata": {
        "id": "JoBCOMn2Q9RH"
      }
    },
    {
      "cell_type": "markdown",
      "source": [
        "### 3.4.2 Logistic using Neural Nets"
      ],
      "metadata": {
        "id": "pUqKubyra6bF"
      }
    },
    {
      "cell_type": "code",
      "source": [
        "# Prepare tensors\n",
        "Xtr_t = torch.tensor(X_train_scaled, dtype=torch.float32)\n",
        "ytr_t = torch.tensor(y_train.values if hasattr(y_train, \"values\") else y_train,\n",
        "                    dtype=torch.float32)\n",
        "Xvl_t = torch.tensor(X_val_scaled,   dtype=torch.float32)\n",
        "yvl_t = torch.tensor(y_val.values if hasattr(y_val, \"values\") else y_val,\n",
        "                    dtype=torch.float32)\n",
        "\n",
        "model_L_scaled = LogisticNet(Xtr_t.shape[1])\n",
        "criterion = nn.BCEWithLogitsLoss()\n",
        "optimizer = torch.optim.Adam(model_L_scaled.parameters(), lr=0.01)\n",
        "\n",
        "tol        = 1e-4\n",
        "max_epochs = 10000\n",
        "\n",
        "train_losses = []\n",
        "val_losses   = []\n",
        "\n",
        "for epoch in range(1, max_epochs+1):\n",
        "    model_L_scaled.train()\n",
        "    optimizer.zero_grad()\n",
        "    logits     = model_L_scaled(Xtr_t).squeeze()\n",
        "    loss       = criterion(logits, ytr_t)\n",
        "    loss.backward()\n",
        "    optimizer.step()\n",
        "\n",
        "    # record train loss\n",
        "    train_losses.append(loss.item())\n",
        "\n",
        "    # compute & record validation loss\n",
        "    model_L_scaled.eval()\n",
        "    with torch.no_grad():\n",
        "        val_logits = model_L_scaled(Xvl_t).squeeze()\n",
        "        val_loss   = criterion(val_logits, yvl_t)\n",
        "    val_losses.append(val_loss.item())\n",
        "\n",
        "    # convergence check\n",
        "    with torch.no_grad():\n",
        "        weights = model_L_scaled.linear.weight.t()\n",
        "        bias    = model_L_scaled.linear.bias\n",
        "\n",
        "        cond_w = torch.max(torch.abs(weights - w_target)) < tol\n",
        "        cond_b = torch.abs(bias - b_target) < tol\n",
        "\n",
        "        if cond_w and cond_b:\n",
        "            print(f\"Converged to StatsModels weights at epoch {epoch}\\n\")\n",
        "            break\n",
        "else:\n",
        "    print(f\"No convergence within {max_epochs} epochs\\n\")\n",
        "\n",
        "# Evaluate PyTorch model performance\n",
        "model_L_scaled.eval()\n",
        "with torch.no_grad():\n",
        "    train_probs = torch.sigmoid(model_L_scaled(Xtr_t).squeeze()).numpy()\n",
        "    val_probs   = torch.sigmoid(model_L_scaled(Xvl_t).squeeze()).numpy()\n",
        "\n",
        "print(f\"PyTorch Train AUC: {roc_auc_score(ytr_t, train_probs):.4f}\")\n",
        "print(f\"PyTorch Val   AUC: {roc_auc_score(yvl_t,   val_probs):.4f}\")\n",
        "\n",
        "# Plot loss curves\n",
        "plt.figure()\n",
        "plt.plot(train_losses, label='Train Loss')\n",
        "plt.plot(val_losses,   label='Val   Loss')\n",
        "plt.xlabel('Epoch')\n",
        "plt.ylabel('Loss')\n",
        "plt.title('Training vs. Validation Loss')\n",
        "plt.legend()\n",
        "plt.show()\n"
      ],
      "metadata": {
        "colab": {
          "base_uri": "https://localhost:8080/",
          "height": 543
        },
        "id": "mKz4lc7opmnX",
        "outputId": "641f69bc-91b6-4032-96e2-b84b40160478"
      },
      "execution_count": null,
      "outputs": [
        {
          "output_type": "stream",
          "name": "stdout",
          "text": [
            "No convergence within 10000 epochs\n",
            "\n",
            "PyTorch Train AUC: 0.8534\n",
            "PyTorch Val   AUC: 0.8564\n"
          ]
        },
        {
          "output_type": "display_data",
          "data": {
            "text/plain": [
              "<Figure size 640x480 with 1 Axes>"
            ],
            "image/png": "[encoded data removed]"
          },
          "metadata": {}
        }
      ]
    },
    {
      "cell_type": "markdown",
      "source": [
        "From this training and validation loss curve, we can see:\n",
        "\n",
        "\n",
        "1. Rapid early convergence: Loss plunges from ~0.7 to under 0.05 within the first few hundred epochs, showing that Adam + scaling lets the net learn the bulk of the signal very quickly.\n",
        "2. No overfitting: The orange (validation) and blue (training) curves lie almost on top of each other all the way down, so the model generalizes cleanly.\n",
        "\n"
      ],
      "metadata": {
        "id": "VO3ZJX2f7b61"
      }
    },
    {
      "cell_type": "code",
      "source": [
        "model_L_scaled.state_dict()"
      ],
      "metadata": {
        "colab": {
          "base_uri": "https://localhost:8080/"
        },
        "id": "9tmJL1SekFRm",
        "outputId": "c62eb838-f239-47f8-9f5b-c07c8c7cfbc7"
      },
      "execution_count": null,
      "outputs": [
        {
          "output_type": "execute_result",
          "data": {
            "text/plain": [
              "OrderedDict([('linear.weight',\n",
              "              tensor([[ 0.2536,  0.0588,  0.5185, -0.5386,  0.3997]])),\n",
              "             ('linear.bias', tensor([-6.0824]))])"
            ]
          },
          "metadata": {},
          "execution_count": 253
        }
      ]
    },
    {
      "cell_type": "code",
      "source": [
        "# Extract PyTorch weights & bias and back-transform\n",
        "w_s_t = model_L_scaled.linear.weight.detach().cpu().numpy().flatten()\n",
        "b_s_t = model_L_scaled.linear.bias.detach().cpu().numpy().item()\n",
        "\n",
        "w_t_orig = w_s_t / scaler.scale_\n",
        "b_t_orig = b_s_t - (w_s_t * scaler.mean_ / scaler.scale_).sum()\n",
        "\n",
        "coef_torch_orig = pd.Series([b_t_orig, *w_t_orig], index=orig_index)\n",
        "print(\"Back-converted PyTorch coefficients:\")\n",
        "print(coef_torch_orig, \"\\n\")\n",
        "\n",
        "# Compare to original StatsModels:\n",
        "print(\"Original StatsModels coefficients:\")\n",
        "print(sm_train.params)"
      ],
      "metadata": {
        "colab": {
          "base_uri": "https://localhost:8080/"
        },
        "id": "JX2cCGIabkM3",
        "outputId": "86eda06b-3035-4565-855d-c590443e7ac6"
      },
      "execution_count": null,
      "outputs": [
        {
          "output_type": "stream",
          "name": "stdout",
          "text": [
            "Back-converted PyTorch coefficients:\n",
            "Intercept               -7.668810\n",
            "equity_to_assets         0.869569\n",
            "roa                      0.259945\n",
            "liabilities_to_assets    1.899937\n",
            "interest_coverage       -0.000325\n",
            "debt_to_capital          0.401106\n",
            "dtype: float64 \n",
            "\n",
            "Original StatsModels coefficients:\n",
            "const                   -7.668867\n",
            "equity_to_assets         0.869611\n",
            "roa                      0.259948\n",
            "liabilities_to_assets    1.899983\n",
            "interest_coverage       -0.000325\n",
            "debt_to_capital          0.401107\n",
            "dtype: float64\n"
          ]
        }
      ]
    },
    {
      "cell_type": "markdown",
      "source": [
        "We can see that after scaling the X variables and converting the bias and weights back to their non-scaled equivalents, the logistic coefficients are very close to the StatsModels coefficients. This means that scaling the X variables is essential when using logistic regression with neural networks."
      ],
      "metadata": {
        "id": "4ghQ8qa7RsG4"
      }
    },
    {
      "cell_type": "markdown",
      "source": [
        "## 3.5 Simple Neural Nets (6-6-1)"
      ],
      "metadata": {
        "id": "TrIFNMBZvp1Y"
      }
    },
    {
      "cell_type": "code",
      "source": [
        "class SimpleNet(nn.Module):\n",
        "    def __init__(self, input_dim):\n",
        "        super().__init__()\n",
        "        self.fc1  = nn.Linear(input_dim, 6) # hidden layer with 6 nodes\n",
        "        self.relu = nn.ReLU() #non-linear activation\n",
        "        self.fc2  = nn.Linear(6, 1) # output layer with 1 node\n",
        "\n",
        "    def forward(self, x):\n",
        "        x = self.fc1(x)\n",
        "        x = self.relu(x)\n",
        "        x = self.fc2(x)\n",
        "        return x"
      ],
      "metadata": {
        "id": "K9t10PKoqce4"
      },
      "execution_count": null,
      "outputs": []
    },
    {
      "cell_type": "code",
      "source": [
        "scaler = StandardScaler()\n",
        "X_train_scaled = scaler.fit_transform(X_train)\n",
        "X_val_scaled   = scaler.transform(X_val)\n",
        "\n",
        "# Convert to PyTorch tensors\n",
        "X_train_t = torch.tensor(X_train_scaled, dtype=torch.float32)\n",
        "y_train_t = torch.tensor(\n",
        "    y_train.values if hasattr(y_train, 'values') else y_train,\n",
        "    dtype=torch.float32\n",
        ")\n",
        "X_val_t = torch.tensor(X_val_scaled, dtype=torch.float32)\n",
        "y_val_t = torch.tensor(\n",
        "    y_val.values if hasattr(y_val, 'values') else y_val,\n",
        "    dtype=torch.float32\n",
        ")\n",
        "\n",
        "input_dim  = X_train_t.shape[1]"
      ],
      "metadata": {
        "id": "wj6v_c1pff4F"
      },
      "execution_count": null,
      "outputs": []
    },
    {
      "cell_type": "markdown",
      "source": [
        "I also tried different learning rates and epochs here. A combination of lr=0.01 and epochs=10,000 will lead to overfitting. So, I lower the epochs number and choose lr-0.01 and epochs=600."
      ],
      "metadata": {
        "id": "7MAAspo5TtUP"
      }
    },
    {
      "cell_type": "code",
      "source": [
        "model_S = SimpleNet(input_dim)\n",
        "criterion = nn.BCEWithLogitsLoss()\n",
        "optimizer = optim.Adam(model_S.parameters(), lr=0.01)\n",
        "\n",
        "tol        = 1e-4\n",
        "max_epochs = 600\n",
        "prev_loss  = float('inf')\n",
        "\n",
        "train_losses = []\n",
        "val_losses   = []\n",
        "\n",
        "for epoch in range(1, max_epochs+1):\n",
        "    model_S.train()\n",
        "    optimizer.zero_grad()\n",
        "    logits     = model_S(X_train_t).squeeze()\n",
        "    loss       = criterion(logits, y_train_t)\n",
        "    loss.backward()\n",
        "    optimizer.step()\n",
        "\n",
        "    # record train loss\n",
        "    train_losses.append(loss.item())\n",
        "\n",
        "    # compute & record validation loss\n",
        "    model_S.eval()\n",
        "    with torch.no_grad():\n",
        "        val_logits = model_S(X_val_t).squeeze()\n",
        "        val_loss   = criterion(val_logits, y_val_t)\n",
        "    val_losses.append(val_loss.item())\n",
        "\n",
        "    if abs(prev_loss - loss.item()) < tol:\n",
        "      print(f\"Converged at epoch {epoch}\")\n",
        "      break\n",
        "      prev_loss = loss.item()\n",
        "\n",
        "else:\n",
        "    print(f\"No convergence within {max_epochs} epochs\")\n",
        "\n",
        "\n",
        "# Evaluate PyTorch model performance\n",
        "model_S.eval()\n",
        "with torch.no_grad():\n",
        "    train_probs = torch.sigmoid(model_S(X_train_t).squeeze()).numpy()\n",
        "    val_probs   = torch.sigmoid(model_S(X_val_t).squeeze()).numpy()\n",
        "\n",
        "print(f\"PyTorch Train AUC: {roc_auc_score(y_train_t, train_probs):.4f}\")\n",
        "print(f\"PyTorch Val   AUC: {roc_auc_score(y_val_t,   val_probs):.4f}\")\n",
        "\n",
        "# Plot loss curves\n",
        "plt.figure()\n",
        "plt.plot(train_losses, label='Train Loss')\n",
        "plt.plot(val_losses,   label='Val   Loss')\n",
        "plt.xlabel('Epoch')\n",
        "plt.ylabel('Loss')\n",
        "plt.title('Training vs. Validation Loss')\n",
        "plt.legend()\n",
        "plt.show()\n"
      ],
      "metadata": {
        "colab": {
          "base_uri": "https://localhost:8080/",
          "height": 526
        },
        "id": "bLk5InGGthJh",
        "outputId": "0282aac0-7382-46e6-b967-c5318a848c71"
      },
      "execution_count": null,
      "outputs": [
        {
          "output_type": "stream",
          "name": "stdout",
          "text": [
            "No convergence within 600 epochs\n",
            "PyTorch Train AUC: 0.9192\n",
            "PyTorch Val   AUC: 0.9204\n"
          ]
        },
        {
          "output_type": "display_data",
          "data": {
            "text/plain": [
              "<Figure size 640x480 with 1 Axes>"
            ],
            "image/png": "[encoded data removed]"
          },
          "metadata": {}
        }
      ]
    },
    {
      "cell_type": "markdown",
      "source": [
        "The above traing and validation loss curve shows a faster and cleaner convergence. Loss plummets from ~0.7 to near zero in under 100 epochs (vs. thousands before), so scaling really speeds things up. Also, the performance is really strong and stable. Train AUC = 0.9192 and Val AUC = 0.9204—both higher than the unscaled run and almost identical to each other with very little overfitting."
      ],
      "metadata": {
        "id": "5KM8mx7tUuPM"
      }
    },
    {
      "cell_type": "code",
      "source": [
        "model_S.state_dict()"
      ],
      "metadata": {
        "colab": {
          "base_uri": "https://localhost:8080/"
        },
        "id": "e8ZpLkIckMtc",
        "outputId": "b1ab6c4c-d11b-46d1-9a8b-72963053992f"
      },
      "execution_count": null,
      "outputs": [
        {
          "output_type": "execute_result",
          "data": {
            "text/plain": [
              "OrderedDict([('fc1.weight',\n",
              "              tensor([[ 0.9975,  0.8022, -1.0625, -0.5269, -1.0213],\n",
              "                      [ 0.2384,  0.0892,  0.3552, -0.5453,  0.7326],\n",
              "                      [ 0.3786, -1.8336, -0.4265,  0.4117, -0.3390],\n",
              "                      [ 0.0808,  0.0331, -0.0775, -0.0413, -0.0620],\n",
              "                      [-0.4442,  2.4333,  0.1615, -1.3117,  0.4015],\n",
              "                      [-0.0127,  0.0531, -0.0299, -0.0449,  0.0095]])),\n",
              "             ('fc1.bias',\n",
              "              tensor([ 1.4427, -0.2156,  1.5404, -0.3936,  1.4559, -0.0835])),\n",
              "             ('fc2.weight',\n",
              "              tensor([[-1.3041,  0.5172, -1.0021,  0.0970, -1.5345,  0.1463]])),\n",
              "             ('fc2.bias', tensor([-0.9265]))])"
            ]
          },
          "metadata": {},
          "execution_count": 261
        }
      ]
    },
    {
      "cell_type": "markdown",
      "source": [
        "## 3.6 Add a Drop Layer to Simple Neural Nets"
      ],
      "metadata": {
        "id": "176Y8IPywJGL"
      }
    },
    {
      "cell_type": "code",
      "source": [
        "class SimpleNetDropout(nn.Module):\n",
        "    def __init__(self, input_dim, p_drop=0.5):\n",
        "        super().__init__()\n",
        "        self.fc1     = nn.Linear(input_dim, 6)\n",
        "        self.relu    = nn.ReLU()\n",
        "        self.dropout = nn.Dropout(p_drop)\n",
        "        self.fc2     = nn.Linear(6, 1)\n",
        "\n",
        "    def forward(self, x):\n",
        "        x = self.fc1(x)\n",
        "        x = self.relu(x)\n",
        "        x = self.dropout(x)\n",
        "        x = self.fc2(x)\n",
        "        return x"
      ],
      "metadata": {
        "id": "tXKgJPbfhOLh"
      },
      "execution_count": null,
      "outputs": []
    },
    {
      "cell_type": "code",
      "source": [
        "model_SD     = SimpleNetDropout(input_dim,p_drop=0.5)\n",
        "criterion = nn.BCEWithLogitsLoss()\n",
        "optimizer = optim.Adam(model_SD.parameters(), lr=0.01)\n",
        "\n",
        "# Training loop with convergence check\n",
        "tol        = 1e-4\n",
        "max_epochs = 1000\n",
        "prev_loss  = float('inf')\n",
        "\n",
        "train_losses = []\n",
        "val_losses   = []\n",
        "\n",
        "for epoch in range(1, max_epochs+1):\n",
        "    model_SD.train()\n",
        "    optimizer.zero_grad()\n",
        "    logits     = model_SD(X_train_t).squeeze()\n",
        "    loss       = criterion(logits, y_train_t)\n",
        "    loss.backward()\n",
        "    optimizer.step()\n",
        "\n",
        "    # record train loss\n",
        "    train_losses.append(loss.item())\n",
        "\n",
        "    # compute & record validation loss\n",
        "    model_SD.eval()\n",
        "    with torch.no_grad():\n",
        "        val_logits = model_SD(X_val_t).squeeze()\n",
        "        val_loss   = criterion(val_logits, y_val_t)\n",
        "    val_losses.append(val_loss.item())\n",
        "\n",
        "    if abs(prev_loss - loss.item()) < tol:\n",
        "      print(f\"Converged at epoch {epoch}\")\n",
        "      break\n",
        "      prev_loss = loss.item()\n",
        "\n",
        "else:\n",
        "    print(f\"No convergence within {max_epochs} epochs\")\n",
        "\n",
        "\n",
        "# Evaluate PyTorch model performance\n",
        "model_SD.eval()\n",
        "with torch.no_grad():\n",
        "    train_probs = torch.sigmoid(model_SD(X_train_t).squeeze()).numpy()\n",
        "    val_probs   = torch.sigmoid(model_SD(X_val_t).squeeze()).numpy()\n",
        "\n",
        "print(f\"PyTorch Train AUC: {roc_auc_score(y_train_t, train_probs):.4f}\")\n",
        "print(f\"PyTorch Val   AUC: {roc_auc_score(y_val_t,   val_probs):.4f}\")\n",
        "\n",
        "# Plot loss curves\n",
        "plt.figure()\n",
        "plt.plot(train_losses, label='Train Loss')\n",
        "plt.plot(val_losses,   label='Val   Loss')\n",
        "plt.xlabel('Epoch')\n",
        "plt.ylabel('Loss')\n",
        "plt.title('Training vs. Validation Loss')\n",
        "plt.legend()\n",
        "plt.show()"
      ],
      "metadata": {
        "colab": {
          "base_uri": "https://localhost:8080/",
          "height": 526
        },
        "id": "R76qr0R1wYno",
        "outputId": "695fefb1-32cb-4fa5-dc9a-a9b68f63aace"
      },
      "execution_count": null,
      "outputs": [
        {
          "output_type": "stream",
          "name": "stdout",
          "text": [
            "No convergence within 1000 epochs\n",
            "PyTorch Train AUC: 0.9244\n",
            "PyTorch Val   AUC: 0.9009\n"
          ]
        },
        {
          "output_type": "display_data",
          "data": {
            "text/plain": [
              "<Figure size 640x480 with 1 Axes>"
            ],
            "image/png": "[encoded data removed]"
          },
          "metadata": {}
        }
      ]
    },
    {
      "cell_type": "markdown",
      "source": [
        "The above training and validation loss curve shows\n",
        "1.  Slower and noiser training loss: The blue “Train Loss” curve\n",
        "descends more gradually and shows jitter—dropout randomly zeroes out half the hidden units each batch, so the model has to learn around that noise.\n",
        "\n",
        "2. Validation loss sits below training : Because dropout is only active during training, the “Val Loss” (orange) is consistently lower and much smoother.\n",
        "\n",
        "3. Still converges to low loss : Despite the added noise, both curves flatten out around near‐zero loss by ~200–300 epochs, indicating you’ve retained strong learning capacity.\n"
      ],
      "metadata": {
        "id": "3VHtiNFjVk2f"
      }
    },
    {
      "cell_type": "code",
      "source": [
        "model_SD.state_dict()"
      ],
      "metadata": {
        "colab": {
          "base_uri": "https://localhost:8080/"
        },
        "id": "EBJdiMwmkT8B",
        "outputId": "cf1f513c-32a6-4537-ffcc-33ee8b1f8add"
      },
      "execution_count": null,
      "outputs": [
        {
          "output_type": "execute_result",
          "data": {
            "text/plain": [
              "OrderedDict([('fc1.weight',\n",
              "              tensor([[ 0.6261,  0.2954, -0.4571,  0.0113,  0.0847],\n",
              "                      [-0.0656,  0.3021, -0.5243, -0.0148, -0.1759],\n",
              "                      [-0.3447, -0.2677, -0.2157,  0.3739, -0.0180],\n",
              "                      [ 0.1573,  1.4335, -0.1121, -0.3254, -0.0519],\n",
              "                      [ 0.2435, -0.0799, -0.2432, -0.7223, -0.2049],\n",
              "                      [-0.1235,  0.9058, -0.4149,  0.1982, -0.0890]])),\n",
              "             ('fc1.bias',\n",
              "              tensor([1.0741, 1.1502, 0.4320, 0.9674, 0.9200, 1.0877])),\n",
              "             ('fc2.weight',\n",
              "              tensor([[-1.4961, -1.2480, -0.4532, -1.3049, -1.3976, -1.2646]])),\n",
              "             ('fc2.bias', tensor([-2.0150]))])"
            ]
          },
          "metadata": {},
          "execution_count": 268
        }
      ]
    },
    {
      "cell_type": "markdown",
      "source": [
        "# Step 4. Conclusion: Impression of the Neural Net"
      ],
      "metadata": {
        "id": "Z9TT3c1xWYfB"
      }
    },
    {
      "cell_type": "markdown",
      "source": [
        "When testing different hyperparameters, we copy the current file and work in a separate file to avoid mixing them up."
      ],
      "metadata": {
        "id": "TKX39A766QSh"
      }
    },
    {
      "cell_type": "markdown",
      "source": [
        "## 4.1 Comments on multiple runs"
      ],
      "metadata": {
        "id": "ZldGaG1sWlVn"
      }
    },
    {
      "cell_type": "markdown",
      "source": [
        "The neural net structure is pretty flexible. Changing different hyperparameters can cause different results. Within the class object of a neural net, we can change our number of nodes easily, or adding or dropping layers is pretty simple. Also, within the class structure, we can change our activation function easily and rerun the whole training and validation process. The training and validation process is pretty stable and can finish its run within 1 min, whatever parameters I change."
      ],
      "metadata": {
        "id": "yVdN1E1c2n-6"
      }
    },
    {
      "cell_type": "markdown",
      "source": [
        "## 4.2 Findings on different number of nodes"
      ],
      "metadata": {
        "id": "WokYf4fe0KHB"
      }
    },
    {
      "cell_type": "markdown",
      "source": [
        "Based on the simple neural net, we also tried different numbers of nodes in the hidden layer—10, 50, and 100. We found that a higher number of nodes yielded a higher AUC. Adding more hidden units boosts the network’s capacity to capture complex, nonlinear patterns and feature interactions in the data. Each extra node can learn a new aspect of how the input ratios relate to default risk, enabling the model to carve out a more accurate decision boundary—and that typically shows up as a higher AUC."
      ],
      "metadata": {
        "id": "EBYNJCli0P7y"
      }
    },
    {
      "cell_type": "markdown",
      "source": [
        "## 4.3 Findings on different activation functions"
      ],
      "metadata": {
        "id": "xBZQQvXcymYO"
      }
    },
    {
      "cell_type": "markdown",
      "source": [
        "Based on the simple neural net, we also tried 3 other activation functions which are Sigmoid, Tanh and Softmax. The AUC that we got for Sigmoid and Tanh is pretty similar to Relu, which are around 0.9. However, the Softmax function only give me AUC around 0.1 which is pretty low. The reason might be Softmax isn’t designed as a hidden-layer nonlinearity. It forces 6 units to form a single probability distribution (summing to one), which drastically limits their independent representational power and quickly drives them into saturation, killing gradients. By contrast, element-wise activations like sigmoid or tanh let each unit respond and learn on its own, so they preserve the signal needed for good AUC."
      ],
      "metadata": {
        "id": "1vBZst8AxfB9"
      }
    },
    {
      "cell_type": "markdown",
      "source": [
        "## 4.4 Findings on different optimizations"
      ],
      "metadata": {
        "id": "LxpYzY9TzMIg"
      }
    },
    {
      "cell_type": "markdown",
      "source": [
        "Based on the simple neural net, we also tried SGD and RMSprop. RMSprop outperforms Adam and SGD here. The reason might because it adaptively scales each weight’s learning rate based on its recent gradient magnitude, which smooths out the erratic updates you get from a small, dropout‐regularized network and imbalanced financial‐ratio inputs. Its simpler per‐parameter adjustment often converges more steadily than Adam’s extra momentum and bias corrections or SGD’s one‐size‐fits‐all step size."
      ],
      "metadata": {
        "id": "K3eOcAPhzRVw"
      }
    }
  ],
  "metadata": {
    "colab": {
      "toc_visible": true,
      "provenance": []
    },
    "kernelspec": {
      "display_name": "Python 3",
      "name": "python3"
    },
    "language_info": {
      "name": "python"
    }
  },
  "nbformat": 4,
  "nbformat_minor": 0
}